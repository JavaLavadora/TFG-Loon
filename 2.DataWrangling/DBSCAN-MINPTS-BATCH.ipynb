{
 "cells": [
  {
   "cell_type": "code",
   "execution_count": 3,
   "metadata": {},
   "outputs": [],
   "source": [
    "import pandas as pd\n",
    "import numpy as np\n",
    "import os\n",
    "import glob\n",
    "\n",
    "import matplotlib.pyplot as plt\n",
    "import seaborn as sns\n",
    "\n",
    "from sklearn.cluster import DBSCAN\n",
    "import sklearn.utils\n",
    "from sklearn.preprocessing import StandardScaler\n",
    "from sklearn import metrics\n",
    "from sklearn.metrics.pairwise import haversine_distances\n",
    "\n",
    "from math import radians\n"
   ]
  },
  {
   "cell_type": "code",
   "execution_count": 4,
   "metadata": {},
   "outputs": [
    {
     "data": {
      "text/plain": [
       "Float64Index([177.04918032786884, 295.08196721311475,  472.1311475409836,\n",
       "               590.1639344262295,  708.1967213114754,  885.2459016393443,\n",
       "              1003.2786885245902,  1180.327868852459,  1298.360655737705,\n",
       "              1416.3934426229507, 1593.4426229508197, 1711.4754098360656,\n",
       "              1829.5081967213114, 2006.5573770491803,  2124.590163934426,\n",
       "              2301.6393442622953, 2419.6721311475408, 2537.7049180327867,\n",
       "               2714.754098360656, 2832.7868852459014],\n",
       "             dtype='float64')"
      ]
     },
     "execution_count": 4,
     "metadata": {},
     "output_type": "execute_result"
    }
   ],
   "source": [
    "# Let's generate some possible stay times\n",
    "# We set the lower bound to 3 hours and as upper bound we set 48 hours\n",
    "\n",
    "#['N139LB', 'N166LB', 'N191LB', 'N211LB', 'N221LB', 'N225LB', 'N226LB', 'N228LB', 'N234LB',\\\n",
    "#                   'N235LB', 'N238LB', 'N252LB', 'N253LB', 'N271LB', 'N329LB', 'N789LB']\n",
    "\n",
    "target_loons = ['N235LB']\n",
    " \n",
    "freq_median = pd.to_timedelta(61, unit='s')\n",
    "\n",
    "upper_bound = 48\n",
    "lower_bound = 3\n",
    "\n",
    "num_values = 20\n",
    "\n",
    "step_size = (upper_bound - lower_bound) / (num_values-1)\n",
    "stay_point_sizes = np.arange(lower_bound, upper_bound + step_size, step_size)\n",
    "\n",
    "stay_point_sizes = np.around(stay_point_sizes, decimals=0, out=None)\n",
    "\n",
    "stay_point_sizes = pd.to_timedelta(stay_point_sizes, unit='h')\n",
    "stay_point_sizes = stay_point_sizes / freq_median\n",
    "\n",
    "stay_point_sizes"
   ]
  },
  {
   "cell_type": "code",
   "execution_count": 5,
   "metadata": {
    "scrolled": false
   },
   "outputs": [
    {
     "name": "stdout",
     "output_type": "stream",
     "text": [
      "0.001330864174669018\n",
      "N235LB: [-1  0  1  2  3  4  5  6  7  8  9 10 11 12 13 14 15]; eps=0.001330864174669018; min_pts= 177.04918032786884\n",
      "N235LB: [-1  0  1  2  3  4  5  6  7  8  9 10 11 12 13 14 15]; eps=0.001330864174669018; min_pts= 295.08196721311475\n",
      "N235LB: [-1  0  1  2  3  4  5  6  7  8  9 10 11 12 13]; eps=0.001330864174669018; min_pts= 472.1311475409836\n",
      "N235LB: [-1  0  1  2  3  4  5  6  7  8  9 10 11 12 13 14]; eps=0.001330864174669018; min_pts= 590.1639344262295\n",
      "N235LB: [-1  0  1  2  3  4  5  6  7  8  9 10 11 12]; eps=0.001330864174669018; min_pts= 708.1967213114754\n",
      "N235LB: [-1  0  1  2  3  4  5  6  7  8  9 10 11 12 13 14]; eps=0.001330864174669018; min_pts= 885.2459016393443\n",
      "N235LB: [-1  0  1  2  3  4  5  6  7  8  9]; eps=0.001330864174669018; min_pts= 1003.2786885245902\n",
      "N235LB: [-1  0  1  2  3  4  5]; eps=0.001330864174669018; min_pts= 1180.327868852459\n",
      "N235LB: [-1  0  1  2  3  4  5]; eps=0.001330864174669018; min_pts= 1298.360655737705\n",
      "N235LB: [-1  0  1  2  3  4]; eps=0.001330864174669018; min_pts= 1416.3934426229507\n",
      "N235LB: [-1  0  1  2  3  4]; eps=0.001330864174669018; min_pts= 1593.4426229508197\n",
      "N235LB: [-1  0  1  2  3]; eps=0.001330864174669018; min_pts= 1711.4754098360656\n",
      "N235LB: [-1  0  1  2  3]; eps=0.001330864174669018; min_pts= 1829.5081967213114\n",
      "N235LB: [-1  0  1]; eps=0.001330864174669018; min_pts= 2006.5573770491803\n",
      "N235LB: [-1  0  1]; eps=0.001330864174669018; min_pts= 2124.590163934426\n",
      "N235LB: [-1  0  1]; eps=0.001330864174669018; min_pts= 2301.6393442622953\n",
      "N235LB: [-1  0  1]; eps=0.001330864174669018; min_pts= 2419.6721311475408\n",
      "N235LB: [-1  0  1]; eps=0.001330864174669018; min_pts= 2537.7049180327867\n",
      "N235LB: [-1  0  1]; eps=0.001330864174669018; min_pts= 2714.754098360656\n",
      "N235LB: [-1  0]; eps=0.001330864174669018; min_pts= 2832.7868852459014\n"
     ]
    }
   ],
   "source": [
    "kms_per_radian = 6371.0088\n",
    "\n",
    "for loon in target_loons:\n",
    "    \n",
    "    bl = pd.read_csv('../../../../og_data/DBSCAN/epsChosen/CL-' + loon + '-eps.csv', parse_dates=['ts'], \\\n",
    "                     low_memory=False)\n",
    "    \n",
    "    eps = bl['eps'].unique()[0]\n",
    "    print(eps)\n",
    "\n",
    "    for minpts in stay_point_sizes:\n",
    "\n",
    "        dbscan_bl = StandardScaler().fit_transform(bl[['lat', 'lon']])\n",
    "\n",
    "        db = DBSCAN(eps=eps, min_samples=minpts, algorithm='ball_tree', metric='haversine') \\\n",
    "                .fit(np.radians(dbscan_bl))\n",
    "\n",
    "        print(str(loon) + ': ' + str(np.unique(db.labels_)) + '; eps=' + str(eps) \\\n",
    "                + '; min_pts= ' + str(minpts))\n",
    "\n",
    "        bl['cluster'] = db.labels_\n",
    "        bl['minpts'] = minpts\n",
    "\n",
    "        # Save to file   \n",
    "        bl.to_csv( '../../../../og_data/DBSCAN/minptsRange/' + str(loon) \\\n",
    "                                      + '/CL-' + loon \\\n",
    "                                      + '-' + 'mp_' + str(minpts) + '-eps_' + str(eps) \\\n",
    "                                      + '.csv', index=False, encoding='utf-8-sig')"
   ]
  },
  {
   "cell_type": "code",
   "execution_count": null,
   "metadata": {},
   "outputs": [],
   "source": []
  },
  {
   "cell_type": "code",
   "execution_count": null,
   "metadata": {},
   "outputs": [],
   "source": []
  },
  {
   "cell_type": "code",
   "execution_count": null,
   "metadata": {},
   "outputs": [],
   "source": []
  },
  {
   "cell_type": "code",
   "execution_count": null,
   "metadata": {},
   "outputs": [],
   "source": []
  },
  {
   "cell_type": "code",
   "execution_count": null,
   "metadata": {},
   "outputs": [],
   "source": []
  },
  {
   "cell_type": "code",
   "execution_count": null,
   "metadata": {},
   "outputs": [],
   "source": []
  },
  {
   "cell_type": "code",
   "execution_count": null,
   "metadata": {},
   "outputs": [],
   "source": []
  }
 ],
 "metadata": {
  "kernelspec": {
   "display_name": "Python 3",
   "language": "python",
   "name": "python3"
  },
  "language_info": {
   "codemirror_mode": {
    "name": "ipython",
    "version": 3
   },
   "file_extension": ".py",
   "mimetype": "text/x-python",
   "name": "python",
   "nbconvert_exporter": "python",
   "pygments_lexer": "ipython3",
   "version": "3.7.1"
  }
 },
 "nbformat": 4,
 "nbformat_minor": 2
}
