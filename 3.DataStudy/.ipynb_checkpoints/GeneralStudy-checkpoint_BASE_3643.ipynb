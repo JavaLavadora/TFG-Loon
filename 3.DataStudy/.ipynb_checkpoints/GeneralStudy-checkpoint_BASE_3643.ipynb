{
 "cells": [
  {
   "cell_type": "code",
   "execution_count": 1,
   "metadata": {},
   "outputs": [],
   "source": [
    "import pandas as pd\n",
    "import numpy as np\n",
    "import seaborn as sns\n",
    "import matplotlib.pyplot as plt\n",
    "import time"
   ]
  },
  {
   "cell_type": "code",
   "execution_count": 2,
   "metadata": {},
   "outputs": [
    {
     "name": "stderr",
     "output_type": "stream",
     "text": [
      "/usr/local/lib/python2.7/dist-packages/numpy/lib/arraysetops.py:569: FutureWarning: elementwise comparison failed; returning scalar instead, but in the future will perform elementwise comparison\n",
      "  mask |= (ar1 == a)\n"
     ]
    }
   ],
   "source": [
    "# First read the clean initial loon data\n",
    "raw_df = pd.read_csv('../../../../og_data/extract_clean.csv', index_col='Unnamed: 0',\n",
    "                       low_memory=False)"
   ]
  },
  {
   "cell_type": "code",
   "execution_count": 3,
   "metadata": {},
   "outputs": [],
   "source": [
    "# Get a baseline\n",
    "bl = raw_df.sort_values(by=['ts'])"
   ]
  },
  {
   "cell_type": "code",
   "execution_count": 4,
   "metadata": {},
   "outputs": [
    {
     "data": {
      "text/html": [
       "<div>\n",
       "<style scoped>\n",
       "    .dataframe tbody tr th:only-of-type {\n",
       "        vertical-align: middle;\n",
       "    }\n",
       "\n",
       "    .dataframe tbody tr th {\n",
       "        vertical-align: top;\n",
       "    }\n",
       "\n",
       "    .dataframe thead th {\n",
       "        text-align: right;\n",
       "    }\n",
       "</style>\n",
       "<table border=\"1\" class=\"dataframe\">\n",
       "  <thead>\n",
       "    <tr style=\"text-align: right;\">\n",
       "      <th></th>\n",
       "      <th>craw_ts</th>\n",
       "      <th>flight_id</th>\n",
       "      <th>aircraft_id</th>\n",
       "      <th>lat</th>\n",
       "      <th>lon</th>\n",
       "      <th>azi</th>\n",
       "      <th>alt</th>\n",
       "      <th>speed</th>\n",
       "      <th>ts</th>\n",
       "    </tr>\n",
       "  </thead>\n",
       "  <tbody>\n",
       "    <tr>\n",
       "      <th>0</th>\n",
       "      <td>1.468556e+12</td>\n",
       "      <td>HBAL417</td>\n",
       "      <td>BA1102</td>\n",
       "      <td>44.7567</td>\n",
       "      <td>-113.6905</td>\n",
       "      <td>194</td>\n",
       "      <td>62300.0</td>\n",
       "      <td>4</td>\n",
       "      <td>2016-07-15 04:07:57</td>\n",
       "    </tr>\n",
       "    <tr>\n",
       "      <th>1</th>\n",
       "      <td>1.468556e+12</td>\n",
       "      <td>HBAL406</td>\n",
       "      <td>BA1123</td>\n",
       "      <td>43.3738</td>\n",
       "      <td>-113.7937</td>\n",
       "      <td>258</td>\n",
       "      <td>60500.0</td>\n",
       "      <td>5</td>\n",
       "      <td>2016-07-15 04:07:59</td>\n",
       "    </tr>\n",
       "    <tr>\n",
       "      <th>2</th>\n",
       "      <td>1.468556e+12</td>\n",
       "      <td>HBAL427</td>\n",
       "      <td>BA111F</td>\n",
       "      <td>18.2783</td>\n",
       "      <td>-65.7778</td>\n",
       "      <td>258</td>\n",
       "      <td>57600.0</td>\n",
       "      <td>29</td>\n",
       "      <td>2016-07-15 04:07:59</td>\n",
       "    </tr>\n",
       "    <tr>\n",
       "      <th>3</th>\n",
       "      <td>1.468556e+12</td>\n",
       "      <td>HBAL287</td>\n",
       "      <td>BA1008</td>\n",
       "      <td>-7.2694</td>\n",
       "      <td>-79.8547</td>\n",
       "      <td>356</td>\n",
       "      <td>59900.0</td>\n",
       "      <td>19</td>\n",
       "      <td>2016-07-15 04:08:00</td>\n",
       "    </tr>\n",
       "    <tr>\n",
       "      <th>4</th>\n",
       "      <td>1.468556e+12</td>\n",
       "      <td>HBAL305</td>\n",
       "      <td>BA1007</td>\n",
       "      <td>-7.3076</td>\n",
       "      <td>-78.5334</td>\n",
       "      <td>352</td>\n",
       "      <td>60200.0</td>\n",
       "      <td>16</td>\n",
       "      <td>2016-07-15 04:08:00</td>\n",
       "    </tr>\n",
       "  </tbody>\n",
       "</table>\n",
       "</div>"
      ],
      "text/plain": [
       "        craw_ts flight_id aircraft_id      lat       lon  azi      alt  speed  \\\n",
       "0  1.468556e+12   HBAL417      BA1102  44.7567 -113.6905  194  62300.0      4   \n",
       "1  1.468556e+12   HBAL406      BA1123  43.3738 -113.7937  258  60500.0      5   \n",
       "2  1.468556e+12   HBAL427      BA111F  18.2783  -65.7778  258  57600.0     29   \n",
       "3  1.468556e+12   HBAL287      BA1008  -7.2694  -79.8547  356  59900.0     19   \n",
       "4  1.468556e+12   HBAL305      BA1007  -7.3076  -78.5334  352  60200.0     16   \n",
       "\n",
       "                    ts  \n",
       "0  2016-07-15 04:07:57  \n",
       "1  2016-07-15 04:07:59  \n",
       "2  2016-07-15 04:07:59  \n",
       "3  2016-07-15 04:08:00  \n",
       "4  2016-07-15 04:08:00  "
      ]
     },
     "execution_count": 4,
     "metadata": {},
     "output_type": "execute_result"
    }
   ],
   "source": [
    "bl.head()"
   ]
  },
  {
   "cell_type": "code",
   "execution_count": 5,
   "metadata": {},
   "outputs": [],
   "source": [
    "# VELOCITY STUDY"
   ]
  },
  {
   "cell_type": "code",
   "execution_count": 6,
   "metadata": {},
   "outputs": [],
   "source": [
    "# First study the speed by loon\n",
    "loons_by_avg_speed = bl[['aircraft_id', 'speed']].groupby(by='aircraft_id').mean() \\\n",
    "                                                    .sort_values(by=['speed'], ascending=False)                          \n",
    "loons_by_top_speed = bl[['aircraft_id', 'speed']].groupby(by='aircraft_id').max()  \\\n",
    "                                                    .sort_values(by=['speed'], ascending=False)"
   ]
  },
  {
   "cell_type": "code",
   "execution_count": 18,
   "metadata": {},
   "outputs": [
    {
     "data": {
      "text/plain": [
       "Text(0,0.5,'Velocity (in km/h)')"
      ]
     },
     "execution_count": 18,
     "metadata": {},
     "output_type": "execute_result"
    },
    {
     "data": {
      "image/png": "[encoded data removed]",
      "text/plain": [
       "<Figure size 1152x432 with 1 Axes>"
      ]
     },
     "metadata": {
      "needs_background": "light"
     },
     "output_type": "display_data"
    }
   ],
   "source": [
    "# Plot velocities for loons\n",
    "plt.figure(figsize=(16,6))\n",
    "plt.title(\"Top loons by average speed\")\n",
    "\n",
    "sns.barplot(x=loons_by_avg_speed.head(100).index, y=loons_by_avg_speed.head(100)['speed'])\n",
    "\n",
    "# Add label for vertical axis\n",
    "plt.ylabel(\"Velocity (in km/h)\")"
   ]
  },
  {
   "cell_type": "code",
   "execution_count": 19,
   "metadata": {},
   "outputs": [
    {
     "data": {
      "text/plain": [
       "Text(0,0.5,'Velocity (in km/h)')"
      ]
     },
     "execution_count": 19,
     "metadata": {},
     "output_type": "execute_result"
    },
    {
     "data": {
      "image/png": "[encoded data removed]",
      "text/plain": [
       "<Figure size 1152x432 with 1 Axes>"
      ]
     },
     "metadata": {
      "needs_background": "light"
     },
     "output_type": "display_data"
    }
   ],
   "source": [
    "# Plot velocities for loons\n",
    "plt.figure(figsize=(16,6))\n",
    "plt.title(\"Top loons by top speed\")\n",
    "\n",
    "sns.barplot(x=loons_by_top_speed.head(100).index, y=loons_by_top_speed.head(100)['speed'])\n",
    "\n",
    "# Add label for vertical axis\n",
    "plt.ylabel(\"Velocity (in km/h)\")"
   ]
  },
  {
   "cell_type": "code",
   "execution_count": 53,
   "metadata": {},
   "outputs": [],
   "source": [
    "# The avg velocity on the first three loons is sensibly higher than the rest. Let's loook at their data\n",
    "best_avg_loons = loons_by_avg_speed.head(3)\n",
    "best_avg_loons = best_avg_loons.reset_index()\n",
    "\n",
    "worst_avg_loons = loons_by_avg_speed.tail(3)\n",
    "worst_avg_loons = worst_avg_loons.reset_index()"
   ]
  },
  {
   "cell_type": "code",
   "execution_count": 54,
   "metadata": {},
   "outputs": [
    {
     "data": {
      "text/plain": [
       "(3, 9)"
      ]
     },
     "execution_count": 54,
     "metadata": {},
     "output_type": "execute_result"
    }
   ],
   "source": [
    "bl.loc[bl.aircraft_id == best_avg_loons.iloc[0].aircraft_id].shape"
   ]
  },
  {
   "cell_type": "code",
   "execution_count": 55,
   "metadata": {},
   "outputs": [
    {
     "data": {
      "text/plain": [
       "(39, 9)"
      ]
     },
     "execution_count": 55,
     "metadata": {},
     "output_type": "execute_result"
    }
   ],
   "source": [
    "bl.loc[bl.aircraft_id == best_avg_loons.iloc[1].aircraft_id].shape"
   ]
  },
  {
   "cell_type": "code",
   "execution_count": 56,
   "metadata": {},
   "outputs": [
    {
     "data": {
      "text/plain": [
       "(109, 9)"
      ]
     },
     "execution_count": 56,
     "metadata": {},
     "output_type": "execute_result"
    }
   ],
   "source": [
    "bl.loc[bl.aircraft_id == best_avg_loons.iloc[2].aircraft_id].shape"
   ]
  },
  {
   "cell_type": "code",
   "execution_count": 57,
   "metadata": {},
   "outputs": [
    {
     "data": {
      "text/plain": [
       "(5, 9)"
      ]
     },
     "execution_count": 57,
     "metadata": {},
     "output_type": "execute_result"
    }
   ],
   "source": [
    "bl.loc[bl.aircraft_id == worst_avg_loons.iloc[0].aircraft_id].shape"
   ]
  },
  {
   "cell_type": "code",
   "execution_count": 58,
   "metadata": {},
   "outputs": [
    {
     "data": {
      "text/plain": [
       "(153, 9)"
      ]
     },
     "execution_count": 58,
     "metadata": {},
     "output_type": "execute_result"
    }
   ],
   "source": [
    "bl.loc[bl.aircraft_id == worst_avg_loons.iloc[1].aircraft_id].shape"
   ]
  },
  {
   "cell_type": "code",
   "execution_count": 59,
   "metadata": {},
   "outputs": [
    {
     "data": {
      "text/plain": [
       "(1, 9)"
      ]
     },
     "execution_count": 59,
     "metadata": {},
     "output_type": "execute_result"
    }
   ],
   "source": [
    "bl.loc[bl.aircraft_id == worst_avg_loons.iloc[2].aircraft_id].shape"
   ]
  },
  {
   "cell_type": "code",
   "execution_count": 62,
   "metadata": {},
   "outputs": [],
   "source": [
    "# The data lacks several records so we cannot consider it for the study\n",
    "# We can observe that the top velocity is steadier but again we cannot trust the data. \n",
    "# We should first get reliable data and then study the velocity. \n",
    "# We can take a look at the velocity by flight instead of by aircraft\n",
    "# since we know how to get complete flights from last part (SampleCompleteFlights)"
   ]
  },
  {
   "cell_type": "code",
   "execution_count": 76,
   "metadata": {},
   "outputs": [],
   "source": [
    "# Second study the speed by flights\n",
    "flights_by_avg_speed = bl[['flight_id', 'speed']].groupby(by='flight_id').mean() \\\n",
    "                                                    .sort_values(by=['speed'], ascending=False)                          \n",
    "flights_by_top_speed = bl[['flight_id', 'speed']].groupby(by='flight_id').max()  \\\n",
    "                                                    .sort_values(by=['speed'], ascending=False)"
   ]
  },
  {
   "cell_type": "code",
   "execution_count": 78,
   "metadata": {},
   "outputs": [
    {
     "data": {
      "text/plain": [
       "Text(0,0.5,'Velocity (in km/h)')"
      ]
     },
     "execution_count": 78,
     "metadata": {},
     "output_type": "execute_result"
    },
    {
     "data": {
      "image/png": "[encoded data removed]",
      "text/plain": [
       "<Figure size 1152x432 with 1 Axes>"
      ]
     },
     "metadata": {
      "needs_background": "light"
     },
     "output_type": "display_data"
    }
   ],
   "source": [
    "# Plot velocities for loons\n",
    "plt.figure(figsize=(16,6))\n",
    "plt.title(\"Top flights by top speed\")\n",
    "\n",
    "sns.barplot(x=flights_by_top_speed.head(100).index, y=flights_by_top_speed.head(100)['speed'])\n",
    "\n",
    "# Add label for vertical axis\n",
    "plt.ylabel(\"Velocity (in km/h)\")"
   ]
  },
  {
   "cell_type": "code",
   "execution_count": 85,
   "metadata": {},
   "outputs": [],
   "source": [
    "# Now we must check which top and last flights are reliable\n",
    "# Compute the variance of the frequency of the records of a given flight\n",
    "\n",
    "def compute_ts_frequency_variance(f_id):\n",
    "    # Get the history of the flight\n",
    "    flight_records = bl.loc[bl.flight_id == f_id].copy()\n",
    "    \n",
    "    # Compute the time since last record in a new column\n",
    "    flight_records['ts'] = pd.to_datetime(flight_records['ts'])\n",
    "    flight_records['time_since_last_record'] = flight_records['ts'] - flight_records['ts'].shift()\n",
    "    flight_records['time_since_last_record'] = flight_records['time_since_last_record'].fillna(0)\n",
    "    \n",
    "    # Compute the variance of such column\n",
    "\n",
    "    return flight_records['time_since_last_record'].std()"
   ]
  },
  {
   "cell_type": "code",
   "execution_count": 121,
   "metadata": {},
   "outputs": [],
   "source": [
    "candidate_best_avg_flights = flights_by_avg_speed.head(20).reset_index()\n",
    "best_top_flights = flights_by_top_speed.head(30).reset_index()\n",
    "\n",
    "candidate_worst_avg_flights = flights_by_avg_speed.tail(30).reset_index()\n",
    "worst_top_flights = flights_by_top_speed.tail(30).reset_index()"
   ]
  },
  {
   "cell_type": "code",
   "execution_count": 122,
   "metadata": {},
   "outputs": [
    {
     "name": "stderr",
     "output_type": "stream",
     "text": [
      "/home/tonidiazmartinez1997/.local/lib/python2.7/site-packages/ipykernel_launcher.py:11: FutureWarning: Passing integers to fillna is deprecated, will raise a TypeError in a future version.  To retain the old behavior, pass pd.Timedelta(seconds=n) instead.\n",
      "  # This is added back by InteractiveShellApp.init_path()\n"
     ]
    }
   ],
   "source": [
    "candidate_best_avg_flights['frequency_var'] = candidate_best_avg_flights \\\n",
    "                                            .apply(lambda r: compute_ts_frequency_variance(r['flight_id']), axis=1)\n",
    "candidate_worst_avg_flights['frequency_var'] = candidate_worst_avg_flights \\\n",
    "                                            .apply(lambda r: compute_ts_frequency_variance(r['flight_id']), axis=1)"
   ]
  },
  {
   "cell_type": "code",
   "execution_count": 128,
   "metadata": {},
   "outputs": [
    {
     "data": {
      "text/html": [
       "<div>\n",
       "<style scoped>\n",
       "    .dataframe tbody tr th:only-of-type {\n",
       "        vertical-align: middle;\n",
       "    }\n",
       "\n",
       "    .dataframe tbody tr th {\n",
       "        vertical-align: top;\n",
       "    }\n",
       "\n",
       "    .dataframe thead th {\n",
       "        text-align: right;\n",
       "    }\n",
       "</style>\n",
       "<table border=\"1\" class=\"dataframe\">\n",
       "  <thead>\n",
       "    <tr style=\"text-align: right;\">\n",
       "      <th></th>\n",
       "      <th>flight_id</th>\n",
       "      <th>speed</th>\n",
       "      <th>frequency_var</th>\n",
       "    </tr>\n",
       "  </thead>\n",
       "  <tbody>\n",
       "    <tr>\n",
       "      <th>0</th>\n",
       "      <td>HBAL0174</td>\n",
       "      <td>88.115044</td>\n",
       "      <td>00:00:33.401486</td>\n",
       "    </tr>\n",
       "    <tr>\n",
       "      <th>1</th>\n",
       "      <td>HBAL0155</td>\n",
       "      <td>97.854890</td>\n",
       "      <td>00:00:36.690382</td>\n",
       "    </tr>\n",
       "    <tr>\n",
       "      <th>2</th>\n",
       "      <td>HBAL213E</td>\n",
       "      <td>84.365672</td>\n",
       "      <td>00:00:39.427109</td>\n",
       "    </tr>\n",
       "    <tr>\n",
       "      <th>3</th>\n",
       "      <td>HBAL0142</td>\n",
       "      <td>89.717949</td>\n",
       "      <td>00:00:44.876017</td>\n",
       "    </tr>\n",
       "    <tr>\n",
       "      <th>4</th>\n",
       "      <td>HBAL0183</td>\n",
       "      <td>91.382353</td>\n",
       "      <td>00:00:44.972501</td>\n",
       "    </tr>\n",
       "    <tr>\n",
       "      <th>5</th>\n",
       "      <td>HBAL0244</td>\n",
       "      <td>72.469697</td>\n",
       "      <td>00:00:54.433160</td>\n",
       "    </tr>\n",
       "    <tr>\n",
       "      <th>6</th>\n",
       "      <td>HBAL0148</td>\n",
       "      <td>80.564516</td>\n",
       "      <td>00:00:55.366623</td>\n",
       "    </tr>\n",
       "    <tr>\n",
       "      <th>7</th>\n",
       "      <td>HBAL0180</td>\n",
       "      <td>90.373134</td>\n",
       "      <td>00:01:04.786571</td>\n",
       "    </tr>\n",
       "    <tr>\n",
       "      <th>8</th>\n",
       "      <td>HBAL0185</td>\n",
       "      <td>84.613636</td>\n",
       "      <td>00:01:05.483710</td>\n",
       "    </tr>\n",
       "    <tr>\n",
       "      <th>9</th>\n",
       "      <td>HBAL0228</td>\n",
       "      <td>66.454545</td>\n",
       "      <td>00:01:10.188382</td>\n",
       "    </tr>\n",
       "    <tr>\n",
       "      <th>10</th>\n",
       "      <td>HBAL430</td>\n",
       "      <td>119.944954</td>\n",
       "      <td>00:01:57.747485</td>\n",
       "    </tr>\n",
       "    <tr>\n",
       "      <th>11</th>\n",
       "      <td>HBAL10</td>\n",
       "      <td>418.000000</td>\n",
       "      <td>00:02:30.996688</td>\n",
       "    </tr>\n",
       "    <tr>\n",
       "      <th>12</th>\n",
       "      <td>HBAL0290</td>\n",
       "      <td>90.210217</td>\n",
       "      <td>00:21:16.972203</td>\n",
       "    </tr>\n",
       "    <tr>\n",
       "      <th>13</th>\n",
       "      <td>HBAL0201</td>\n",
       "      <td>64.679558</td>\n",
       "      <td>00:22:48.980946</td>\n",
       "    </tr>\n",
       "    <tr>\n",
       "      <th>14</th>\n",
       "      <td>HBAL0289</td>\n",
       "      <td>82.281176</td>\n",
       "      <td>00:32:53.754563</td>\n",
       "    </tr>\n",
       "  </tbody>\n",
       "</table>\n",
       "</div>"
      ],
      "text/plain": [
       "   flight_id       speed   frequency_var\n",
       "0   HBAL0174   88.115044 00:00:33.401486\n",
       "1   HBAL0155   97.854890 00:00:36.690382\n",
       "2   HBAL213E   84.365672 00:00:39.427109\n",
       "3   HBAL0142   89.717949 00:00:44.876017\n",
       "4   HBAL0183   91.382353 00:00:44.972501\n",
       "5   HBAL0244   72.469697 00:00:54.433160\n",
       "6   HBAL0148   80.564516 00:00:55.366623\n",
       "7   HBAL0180   90.373134 00:01:04.786571\n",
       "8   HBAL0185   84.613636 00:01:05.483710\n",
       "9   HBAL0228   66.454545 00:01:10.188382\n",
       "10   HBAL430  119.944954 00:01:57.747485\n",
       "11    HBAL10  418.000000 00:02:30.996688\n",
       "12  HBAL0290   90.210217 00:21:16.972203\n",
       "13  HBAL0201   64.679558 00:22:48.980946\n",
       "14  HBAL0289   82.281176 00:32:53.754563"
      ]
     },
     "execution_count": 128,
     "metadata": {},
     "output_type": "execute_result"
    }
   ],
   "source": [
    "candidate_best_avg_flights = candidate_best_avg_flights.sort_values(by='frequency_var').reset_index(drop=True)\n",
    "candidate_best_avg_flights.head(15)"
   ]
  },
  {
   "cell_type": "code",
   "execution_count": 113,
   "metadata": {},
   "outputs": [
    {
     "data": {
      "text/plain": [
       "Text(0,0.5,'Velocity (in km/h)')"
      ]
     },
     "execution_count": 113,
     "metadata": {},
     "output_type": "execute_result"
    },
    {
     "data": {
      "image/png": "[encoded data removed]",
      "text/plain": [
       "<Figure size 1152x432 with 1 Axes>"
      ]
     },
     "metadata": {
      "needs_background": "light"
     },
     "output_type": "display_data"
    }
   ],
   "source": [
    "# The first 10 flights look healthy. \n",
    "# Taking a look in kepler we can see the ones going up and then going down which shows a complete flight\n",
    "# ['HBAL0142', 'HBAL0148', 'HBAL0155', 'HBAL0180', 'HBAL0185', 'HBAL0244', 'HBAL213E', 'HBAL430']\n",
    "best_avg_flights = candidate_best_avg_flights.loc[candidate_best_avg_flights \\\n",
    "                                        .flight_id \\\n",
    "                                        .isin(['HBAL0142', 'HBAL0148', 'HBAL0155', 'HBAL0180', 'HBAL0185', \\\n",
    "                                               'HBAL0244', 'HBAL213E', 'HBAL430'])]\n",
    "# Plot velocities for loons\n",
    "plt.figure(figsize=(16,6))\n",
    "plt.title(\"Top flights by average speed\")\n",
    "sns.barplot(x=best_avg_flights.flight_id, y=best_avg_flights['speed'])\n",
    "\n",
    "# Add label for vertical axis\n",
    "plt.ylabel(\"Velocity (in km/h)\")"
   ]
  },
  {
   "cell_type": "code",
   "execution_count": 126,
   "metadata": {},
   "outputs": [
    {
     "data": {
      "text/html": [
       "<div>\n",
       "<style scoped>\n",
       "    .dataframe tbody tr th:only-of-type {\n",
       "        vertical-align: middle;\n",
       "    }\n",
       "\n",
       "    .dataframe tbody tr th {\n",
       "        vertical-align: top;\n",
       "    }\n",
       "\n",
       "    .dataframe thead th {\n",
       "        text-align: right;\n",
       "    }\n",
       "</style>\n",
       "<table border=\"1\" class=\"dataframe\">\n",
       "  <thead>\n",
       "    <tr style=\"text-align: right;\">\n",
       "      <th></th>\n",
       "      <th>flight_id</th>\n",
       "      <th>speed</th>\n",
       "      <th>frequency_var</th>\n",
       "    </tr>\n",
       "  </thead>\n",
       "  <tbody>\n",
       "    <tr>\n",
       "      <th>0</th>\n",
       "      <td>HBAL464</td>\n",
       "      <td>9.077962</td>\n",
       "      <td>00:00:14.247840</td>\n",
       "    </tr>\n",
       "    <tr>\n",
       "      <th>1</th>\n",
       "      <td>HBAL438</td>\n",
       "      <td>9.171969</td>\n",
       "      <td>00:00:15.015699</td>\n",
       "    </tr>\n",
       "    <tr>\n",
       "      <th>2</th>\n",
       "      <td>HBAL81</td>\n",
       "      <td>8.271405</td>\n",
       "      <td>00:00:16.375524</td>\n",
       "    </tr>\n",
       "    <tr>\n",
       "      <th>3</th>\n",
       "      <td>HBAL500</td>\n",
       "      <td>8.508446</td>\n",
       "      <td>00:00:19.167618</td>\n",
       "    </tr>\n",
       "    <tr>\n",
       "      <th>4</th>\n",
       "      <td>HBAL64</td>\n",
       "      <td>9.005952</td>\n",
       "      <td>00:00:19.960782</td>\n",
       "    </tr>\n",
       "    <tr>\n",
       "      <th>5</th>\n",
       "      <td>HBAL670</td>\n",
       "      <td>6.842857</td>\n",
       "      <td>00:00:23.123190</td>\n",
       "    </tr>\n",
       "    <tr>\n",
       "      <th>6</th>\n",
       "      <td>HBAL269</td>\n",
       "      <td>7.799564</td>\n",
       "      <td>00:00:25.890393</td>\n",
       "    </tr>\n",
       "    <tr>\n",
       "      <th>7</th>\n",
       "      <td>HBAL280</td>\n",
       "      <td>7.969595</td>\n",
       "      <td>00:00:30.868280</td>\n",
       "    </tr>\n",
       "    <tr>\n",
       "      <th>8</th>\n",
       "      <td>HBAL437</td>\n",
       "      <td>8.427069</td>\n",
       "      <td>00:00:32.938963</td>\n",
       "    </tr>\n",
       "    <tr>\n",
       "      <th>9</th>\n",
       "      <td>HBAL0140</td>\n",
       "      <td>8.425651</td>\n",
       "      <td>00:00:49.869015</td>\n",
       "    </tr>\n",
       "  </tbody>\n",
       "</table>\n",
       "</div>"
      ],
      "text/plain": [
       "  flight_id     speed   frequency_var\n",
       "0   HBAL464  9.077962 00:00:14.247840\n",
       "1   HBAL438  9.171969 00:00:15.015699\n",
       "2    HBAL81  8.271405 00:00:16.375524\n",
       "3   HBAL500  8.508446 00:00:19.167618\n",
       "4    HBAL64  9.005952 00:00:19.960782\n",
       "5   HBAL670  6.842857 00:00:23.123190\n",
       "6   HBAL269  7.799564 00:00:25.890393\n",
       "7   HBAL280  7.969595 00:00:30.868280\n",
       "8   HBAL437  8.427069 00:00:32.938963\n",
       "9  HBAL0140  8.425651 00:00:49.869015"
      ]
     },
     "execution_count": 126,
     "metadata": {},
     "output_type": "execute_result"
    }
   ],
   "source": [
    "candidate_worst_avg_flights = candidate_worst_avg_flights.sort_values(by='frequency_var').reset_index(drop=True)\n",
    "candidate_worst_avg_flights.head(10)"
   ]
  },
  {
   "cell_type": "code",
   "execution_count": 129,
   "metadata": {},
   "outputs": [
    {
     "ename": "SyntaxError",
     "evalue": "invalid syntax (<ipython-input-129-6c8da0dff25b>, line 4)",
     "output_type": "error",
     "traceback": [
      "\u001b[0;36m  File \u001b[0;32m\"<ipython-input-129-6c8da0dff25b>\"\u001b[0;36m, line \u001b[0;32m4\u001b[0m\n\u001b[0;31m    worst_avg_flights = candidate_worst_avg_flights.\u001b[0m\n\u001b[0m                                                    ^\u001b[0m\n\u001b[0;31mSyntaxError\u001b[0m\u001b[0;31m:\u001b[0m invalid syntax\n"
     ]
    }
   ],
   "source": [
    "# The first 10 flights look healthy. \n",
    "# Taking a look in kepler we can see the ones going up and then going down which shows a complete flight\n",
    "#\n",
    "worst_avg_flights = candidate_worst_avg_flights.\n",
    "# Plot velocities for loons\n",
    "plt.figure(figsize=(16,6))\n",
    "plt.title(\"Last flights by average speed\")\n",
    "sns.barplot(x=worst_avg_flights.flight_id, y=worst_avg_flights['speed'])\n",
    "\n",
    "# Add label for vertical axis\n",
    "plt.ylabel(\"Velocity (in km/h)\")"
   ]
  },
  {
   "cell_type": "code",
   "execution_count": null,
   "metadata": {},
   "outputs": [],
   "source": []
  },
  {
   "cell_type": "code",
   "execution_count": null,
   "metadata": {},
   "outputs": [],
   "source": []
  },
  {
   "cell_type": "code",
   "execution_count": 88,
   "metadata": {},
   "outputs": [
    {
     "name": "stderr",
     "output_type": "stream",
     "text": [
      "/home/tonidiazmartinez1997/.local/lib/python2.7/site-packages/ipykernel_launcher.py:11: FutureWarning: Passing integers to fillna is deprecated, will raise a TypeError in a future version.  To retain the old behavior, pass pd.Timedelta(seconds=n) instead.\n",
      "  # This is added back by InteractiveShellApp.init_path()\n"
     ]
    }
   ],
   "source": [
    "best_top_flights['frequency_var'] = best_top_flights \\\n",
    "                                            .apply(lambda r: compute_ts_frequency_variance(r['flight_id']), axis=1)"
   ]
  },
  {
   "cell_type": "code",
   "execution_count": 90,
   "metadata": {},
   "outputs": [
    {
     "name": "stderr",
     "output_type": "stream",
     "text": [
      "/home/tonidiazmartinez1997/.local/lib/python2.7/site-packages/ipykernel_launcher.py:11: FutureWarning: Passing integers to fillna is deprecated, will raise a TypeError in a future version.  To retain the old behavior, pass pd.Timedelta(seconds=n) instead.\n",
      "  # This is added back by InteractiveShellApp.init_path()\n"
     ]
    }
   ],
   "source": [
    "worst_top_flights['frequency_var'] = worst_top_flights \\\n",
    "                                            .apply(lambda r: compute_ts_frequency_variance(r['flight_id']), axis=1)"
   ]
  }
 ],
 "metadata": {
  "kernelspec": {
   "display_name": "Python 3",
   "language": "python",
   "name": "python3"
  },
  "language_info": {
   "codemirror_mode": {
    "name": "ipython",
    "version": 2
   },
   "file_extension": ".py",
   "mimetype": "text/x-python",
   "name": "python",
   "nbconvert_exporter": "python",
   "pygments_lexer": "ipython2",
   "version": "2.7.15+"
  }
 },
 "nbformat": 4,
 "nbformat_minor": 2
}
