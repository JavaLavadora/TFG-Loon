{
 "cells": [
  {
   "cell_type": "code",
   "execution_count": null,
   "metadata": {},
   "outputs": [],
   "source": [
    "import pandas as pd\n",
    "from keplergl import KeplerGl\n",
    "import geopandas as gpd"
   ]
  },
  {
   "cell_type": "code",
   "execution_count": null,
   "metadata": {},
   "outputs": [],
   "source": [
    "#df = gpd.read_file('../../../LoonDataStudy/loonData/data/InputSamples/sample_extract_with_country.csv', low_memory=False)\n",
    "\n",
    "bl = pd.read_csv('../../../../og_data/extract_clean_with_country.csv', index_col='Unnamed: 0', low_memory=False)\n",
    "\n",
    "#fr1 = pd.read_csv('../../../../og_data/datos_flight_radar1.csv', low_memory=False)\n",
    "#fr2 = pd.read_csv('../../../../og_data/datos_flight_radar2.csv', low_memory=False)"
   ]
  },
  {
   "cell_type": "code",
   "execution_count": null,
   "metadata": {
    "scrolled": false
   },
   "outputs": [],
   "source": [
    "#Create a basemap \n",
    "map = KeplerGl(height=700, width=800)#show the map\n",
    "map"
   ]
  },
  {
   "cell_type": "code",
   "execution_count": null,
   "metadata": {},
   "outputs": [],
   "source": [
    "#loons_with_country = loons_with_country.loc[loons_with_country.aircraft_id.isin(['BA14B7', 'BA1462', 'BA1475', 'BA1472', 'A23C20', 'A22734', 'BA1491', 'A2AEE6', 'A1B46E', 'A33E06'])]\n",
    "\n",
    "list_to_visualize = ['HBAL101-A2AB2F', 'HBAL021-BA1472', 'HBAL81-BA1211', 'HBAL453-BA1142', 'HBAL467-BA1174', \\\n",
    "                     'HBAL500-A33E06', 'HBAL174-BA1419', 'HBAL083-BA139D', 'HBAL670-A33E06']\n",
    "\n",
    "list_sample_healthy_pr = ['HBAL101', 'HBAL209', 'HBAL047', 'HBAL026', 'HBAL036', 'HBAL029',\n",
    "       'HBAL097', 'HBAL045', 'HBAL027', 'HBAL034', 'HBAL046', 'HBAL095',\n",
    "       'HBAL218', 'HBAL076', 'HBAL187', 'HBAL049', 'HBAL086', 'HBAL231',\n",
    "       'HBAL088', 'HBAL085']\n",
    "\n",
    "\n",
    "loons_with_country = bl \\\n",
    "    .loc[bl \\\n",
    "    .trip_id.isin(list_to_visualize)].copy()\n",
    "\n",
    "# We have to convert some types ...\n",
    "loons_with_country['lat'] = pd.to_numeric(loons_with_country['lat'], errors='coerce')\n",
    "loons_with_country['lon'] = pd.to_numeric(loons_with_country['lon'], errors='coerce')\n",
    "loons_with_country['alt'] = pd.to_numeric(loons_with_country['alt'], errors='coerce')\n",
    "\n",
    "\n"
   ]
  },
  {
   "cell_type": "code",
   "execution_count": null,
   "metadata": {},
   "outputs": [],
   "source": [
    "# Create a geodataframe\n",
    "gdf = gpd.GeoDataFrame(loons_with_country, geometry=gpd.points_from_xy(loons_with_country.lon, \\\n",
    "                                                                       loons_with_country.lat))\n",
    "\n",
    "map.add_data(data=gdf, name=\"loon traces\")\n",
    "\n"
   ]
  },
  {
   "cell_type": "code",
   "execution_count": null,
   "metadata": {},
   "outputs": [],
   "source": []
  },
  {
   "cell_type": "code",
   "execution_count": 65,
   "metadata": {},
   "outputs": [],
   "source": [
    "'''fr = fr1.append(fr2)\n",
    "def getLanLon(coord):\n",
    "        stripped = coord.split(',')\n",
    "\n",
    "        return pd.Series([stripped[0], stripped[1]])\n",
    "fr[['lat', 'lon']] = fr.apply(lambda r: getLanLon(r['Position']), axis=1)\n",
    "\n",
    "fr['lat'] = pd.to_numeric(fr['lat'], errors='coerce')\n",
    "fr['lon'] = pd.to_numeric(fr['lon'], errors='coerce')\n",
    "\n",
    "# Create a geodataframe\n",
    "gdf = gpd.GeoDataFrame(fr, geometry=gpd.points_from_xy(fr.lon, fr.lat))# Add data to Kepler\n",
    "map.add_data(data=gdf, name=\"loon traces\")\n",
    "\n",
    "''''''\n",
    "\n"
   ]
  },
  {
   "cell_type": "code",
   "execution_count": null,
   "metadata": {},
   "outputs": [],
   "source": []
  }
 ],
 "metadata": {
  "kernelspec": {
   "display_name": "Python 3",
   "language": "python",
   "name": "python3"
  },
  "language_info": {
   "codemirror_mode": {
    "name": "ipython",
    "version": 3
   },
   "file_extension": ".py",
   "mimetype": "text/x-python",
   "name": "python",
   "nbconvert_exporter": "python",
   "pygments_lexer": "ipython3",
   "version": "3.7.1"
  }
 },
 "nbformat": 4,
 "nbformat_minor": 2
}
