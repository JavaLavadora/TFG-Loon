{
 "cells": [
  {
   "cell_type": "code",
   "execution_count": 8,
   "metadata": {},
   "outputs": [],
   "source": [
    "import pandas as pd\n",
    "from keplergl import KeplerGl\n",
    "import geopandas as gpd"
   ]
  },
  {
   "cell_type": "code",
   "execution_count": 9,
   "metadata": {},
   "outputs": [],
   "source": [
    "#['N211LB', 'N235LB', 'N238LB', 'N252LB', 'N271LB', 'N329LB']\n",
    "\n",
    "fr = pd.DataFrame()\n",
    "\n",
    "flights_to_add = ['N235LB']\n",
    "\n",
    "for flight in flights_to_add:\n",
    "    \n",
    "    fr = pd.read_csv('../../../../og_data/ST-DBSCAN/ST-' + flight + '.csv', parse_dates=['ts'], \\\n",
    "                       low_memory=False)\n",
    "    \n",
    "fr['trip_id'] = fr['registration_id']\n",
    "\n",
    "bl = fr"
   ]
  },
  {
   "cell_type": "code",
   "execution_count": 10,
   "metadata": {
    "scrolled": false
   },
   "outputs": [
    {
     "name": "stdout",
     "output_type": "stream",
     "text": [
      "User Guide: https://github.com/keplergl/kepler.gl/blob/master/docs/keplergl-jupyter/user-guide.md\n"
     ]
    },
    {
     "data": {
      "application/vnd.jupyter.widget-view+json": {
       "model_id": "838aa15114cc4ccf899548be0867ca68",
       "version_major": 2,
       "version_minor": 0
      },
      "text/plain": [
       "KeplerGl(height=700)"
      ]
     },
     "metadata": {},
     "output_type": "display_data"
    }
   ],
   "source": [
    "#Create a basemap \n",
    "map = KeplerGl(height=700, width=800)#show the map\n",
    "map"
   ]
  },
  {
   "cell_type": "code",
   "execution_count": 11,
   "metadata": {},
   "outputs": [],
   "source": [
    "# We have to convert some types ...\n",
    "bl['lat'] = pd.to_numeric(bl['lat'], errors='coerce')\n",
    "bl['lon'] = pd.to_numeric(bl['lon'], errors='coerce')\n",
    "bl['alt'] = pd.to_numeric(bl['alt'], errors='coerce')\n"
   ]
  },
  {
   "cell_type": "code",
   "execution_count": 12,
   "metadata": {},
   "outputs": [],
   "source": [
    "# Create a geodataframe\n",
    "gdf = gpd.GeoDataFrame(bl, geometry=gpd.points_from_xy(bl.lon, bl.lat))\n",
    "\n",
    "map.add_data(data=gdf, name=\"loon traces\")\n",
    "\n"
   ]
  }
 ],
 "metadata": {
  "kernelspec": {
   "display_name": "Python 3",
   "language": "python",
   "name": "python3"
  },
  "language_info": {
   "codemirror_mode": {
    "name": "ipython",
    "version": 3
   },
   "file_extension": ".py",
   "mimetype": "text/x-python",
   "name": "python",
   "nbconvert_exporter": "python",
   "pygments_lexer": "ipython3",
   "version": "3.7.1"
  }
 },
 "nbformat": 4,
 "nbformat_minor": 2
}
