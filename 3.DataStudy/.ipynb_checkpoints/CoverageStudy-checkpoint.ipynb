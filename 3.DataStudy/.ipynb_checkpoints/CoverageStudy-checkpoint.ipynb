{
 "cells": [
  {
   "cell_type": "code",
   "execution_count": 1,
   "metadata": {},
   "outputs": [],
   "source": [
    "import math\n",
    "import pandas as pd\n",
    "import numpy as np\n",
    "import geopandas as gpd\n",
    "from pyproj import Proj\n",
    "from shapely.geometry import MultiPolygon\n",
    "from shapely.geometry import Point\n",
    "\n",
    "from keplergl import KeplerGl\n",
    "import folium\n",
    "from folium import Choropleth, Marker\n",
    "from folium.plugins import HeatMap, MarkerCluster\n",
    "\n",
    "import matplotlib.pyplot as plt\n",
    "import seaborn as sns\n"
   ]
  },
  {
   "cell_type": "code",
   "execution_count": 2,
   "metadata": {},
   "outputs": [],
   "source": [
    "#['N139LB', 'N166LB', 'N211LB', 'N221LB', 'N225LB', 'N226LB', 'N235LB', 'N238LB', 'N252LB',\\\n",
    "#                 'N271LB', 'N329LB', 'N789LB']\n",
    "\n",
    "flights_to_add = ['N211LB', 'N226LB', 'N235LB']\n",
    "\n",
    "raw_df = pd.DataFrame()\n",
    "\n",
    "for loon in flights_to_add:\n",
    "    \n",
    "    aux = pd.read_csv('../../../../og_data/ST-DBSCAN/ST-' + loon + '-country.csv', parse_dates=['ts'],\\\n",
    "                           low_memory=False)\n",
    "    \n",
    "    \n",
    "    raw_df = raw_df.append(aux)\n",
    "    "
   ]
  },
  {
   "cell_type": "code",
   "execution_count": 3,
   "metadata": {},
   "outputs": [],
   "source": [
    "bl = raw_df\n",
    "bl['time_since_last_record'] = pd.to_timedelta(bl['time_since_last_record'])"
   ]
  },
  {
   "cell_type": "code",
   "execution_count": 4,
   "metadata": {},
   "outputs": [
    {
     "name": "stderr",
     "output_type": "stream",
     "text": [
      "/anaconda3/lib/python3.7/site-packages/pyproj/crs/crs.py:53: FutureWarning: '+init=<authority>:<code>' syntax is deprecated. '<authority>:<code>' is the preferred initialization method. When making the change, be mindful of axis order changes: https://pyproj4.github.io/pyproj/stable/gotchas.html#axis-order-changes-in-proj-6\n",
      "  return _prepare_from_string(\" \".join(pjargs))\n"
     ]
    }
   ],
   "source": [
    "gdf = gpd.GeoDataFrame(bl, geometry=gpd.points_from_xy(bl.lon, bl.lat))\n",
    "gdf.crs = \"EPSG:4326\"\n",
    "\n",
    "gdf = gdf.to_crs(epsg='3857')"
   ]
  },
  {
   "cell_type": "code",
   "execution_count": 5,
   "metadata": {},
   "outputs": [
    {
     "data": {
      "text/html": [
       "<div>\n",
       "<style scoped>\n",
       "    .dataframe tbody tr th:only-of-type {\n",
       "        vertical-align: middle;\n",
       "    }\n",
       "\n",
       "    .dataframe tbody tr th {\n",
       "        vertical-align: top;\n",
       "    }\n",
       "\n",
       "    .dataframe thead th {\n",
       "        text-align: right;\n",
       "    }\n",
       "</style>\n",
       "<table border=\"1\" class=\"dataframe\">\n",
       "  <thead>\n",
       "    <tr style=\"text-align: right;\">\n",
       "      <th></th>\n",
       "      <th>ts</th>\n",
       "      <th>aircraft_id</th>\n",
       "      <th>alt</th>\n",
       "      <th>speed</th>\n",
       "      <th>Direction</th>\n",
       "      <th>registration_id</th>\n",
       "      <th>lat</th>\n",
       "      <th>lon</th>\n",
       "      <th>prev_lat</th>\n",
       "      <th>prev_lon</th>\n",
       "      <th>...</th>\n",
       "      <th>time_since_last_record</th>\n",
       "      <th>cluster</th>\n",
       "      <th>eps</th>\n",
       "      <th>max_distance</th>\n",
       "      <th>minpts</th>\n",
       "      <th>visit</th>\n",
       "      <th>stationary</th>\n",
       "      <th>country</th>\n",
       "      <th>country_code</th>\n",
       "      <th>geometry</th>\n",
       "    </tr>\n",
       "  </thead>\n",
       "  <tbody>\n",
       "    <tr>\n",
       "      <th>0</th>\n",
       "      <td>2018-04-18 17:09:10+00:00</td>\n",
       "      <td>HBAL088</td>\n",
       "      <td>64700</td>\n",
       "      <td>9</td>\n",
       "      <td>251</td>\n",
       "      <td>N211LB</td>\n",
       "      <td>-8.963215</td>\n",
       "      <td>-29.729620</td>\n",
       "      <td>NaN</td>\n",
       "      <td>NaN</td>\n",
       "      <td>...</td>\n",
       "      <td>00:00:00</td>\n",
       "      <td>-1</td>\n",
       "      <td>0.000785</td>\n",
       "      <td>5.0</td>\n",
       "      <td>1103.225806</td>\n",
       "      <td>-1.0</td>\n",
       "      <td>False</td>\n",
       "      <td>NaN</td>\n",
       "      <td>NaN</td>\n",
       "      <td>POINT (-3309486.160 -1001875.342)</td>\n",
       "    </tr>\n",
       "    <tr>\n",
       "      <th>1</th>\n",
       "      <td>2018-04-18 17:14:14+00:00</td>\n",
       "      <td>HBAL088</td>\n",
       "      <td>64600</td>\n",
       "      <td>8</td>\n",
       "      <td>255</td>\n",
       "      <td>N211LB</td>\n",
       "      <td>-8.965897</td>\n",
       "      <td>-29.741991</td>\n",
       "      <td>-8.963215</td>\n",
       "      <td>-29.729620</td>\n",
       "      <td>...</td>\n",
       "      <td>00:05:04</td>\n",
       "      <td>-1</td>\n",
       "      <td>0.000785</td>\n",
       "      <td>5.0</td>\n",
       "      <td>1103.225806</td>\n",
       "      <td>-1.0</td>\n",
       "      <td>False</td>\n",
       "      <td>NaN</td>\n",
       "      <td>NaN</td>\n",
       "      <td>POINT (-3310863.293 -1002177.593)</td>\n",
       "    </tr>\n",
       "    <tr>\n",
       "      <th>2</th>\n",
       "      <td>2018-04-18 17:15:25+00:00</td>\n",
       "      <td>HBAL088</td>\n",
       "      <td>64600</td>\n",
       "      <td>9</td>\n",
       "      <td>257</td>\n",
       "      <td>N211LB</td>\n",
       "      <td>-8.966519</td>\n",
       "      <td>-29.744867</td>\n",
       "      <td>-8.965897</td>\n",
       "      <td>-29.741991</td>\n",
       "      <td>...</td>\n",
       "      <td>00:01:11</td>\n",
       "      <td>-1</td>\n",
       "      <td>0.000785</td>\n",
       "      <td>5.0</td>\n",
       "      <td>1103.225806</td>\n",
       "      <td>-1.0</td>\n",
       "      <td>False</td>\n",
       "      <td>NaN</td>\n",
       "      <td>NaN</td>\n",
       "      <td>POINT (-3311183.448 -1002247.691)</td>\n",
       "    </tr>\n",
       "    <tr>\n",
       "      <th>3</th>\n",
       "      <td>2018-04-18 18:08:59+00:00</td>\n",
       "      <td>HBAL088</td>\n",
       "      <td>64400</td>\n",
       "      <td>10</td>\n",
       "      <td>240</td>\n",
       "      <td>N211LB</td>\n",
       "      <td>-9.021498</td>\n",
       "      <td>-29.865860</td>\n",
       "      <td>-8.966519</td>\n",
       "      <td>-29.744867</td>\n",
       "      <td>...</td>\n",
       "      <td>00:53:34</td>\n",
       "      <td>-1</td>\n",
       "      <td>0.000785</td>\n",
       "      <td>5.0</td>\n",
       "      <td>1103.225806</td>\n",
       "      <td>-1.0</td>\n",
       "      <td>False</td>\n",
       "      <td>NaN</td>\n",
       "      <td>NaN</td>\n",
       "      <td>POINT (-3324652.327 -1008444.112)</td>\n",
       "    </tr>\n",
       "    <tr>\n",
       "      <th>4</th>\n",
       "      <td>2018-04-18 18:10:32+00:00</td>\n",
       "      <td>HBAL088</td>\n",
       "      <td>64600</td>\n",
       "      <td>10</td>\n",
       "      <td>236</td>\n",
       "      <td>N211LB</td>\n",
       "      <td>-9.023941</td>\n",
       "      <td>-29.869825</td>\n",
       "      <td>-9.021498</td>\n",
       "      <td>-29.865860</td>\n",
       "      <td>...</td>\n",
       "      <td>00:01:33</td>\n",
       "      <td>-1</td>\n",
       "      <td>0.000785</td>\n",
       "      <td>5.0</td>\n",
       "      <td>1103.225806</td>\n",
       "      <td>-1.0</td>\n",
       "      <td>False</td>\n",
       "      <td>NaN</td>\n",
       "      <td>NaN</td>\n",
       "      <td>POINT (-3325093.709 -1008719.473)</td>\n",
       "    </tr>\n",
       "  </tbody>\n",
       "</table>\n",
       "<p>5 rows × 23 columns</p>\n",
       "</div>"
      ],
      "text/plain": [
       "                         ts aircraft_id    alt  speed  Direction  \\\n",
       "0 2018-04-18 17:09:10+00:00     HBAL088  64700      9        251   \n",
       "1 2018-04-18 17:14:14+00:00     HBAL088  64600      8        255   \n",
       "2 2018-04-18 17:15:25+00:00     HBAL088  64600      9        257   \n",
       "3 2018-04-18 18:08:59+00:00     HBAL088  64400     10        240   \n",
       "4 2018-04-18 18:10:32+00:00     HBAL088  64600     10        236   \n",
       "\n",
       "  registration_id       lat        lon  prev_lat   prev_lon  ...  \\\n",
       "0          N211LB -8.963215 -29.729620       NaN        NaN  ...   \n",
       "1          N211LB -8.965897 -29.741991 -8.963215 -29.729620  ...   \n",
       "2          N211LB -8.966519 -29.744867 -8.965897 -29.741991  ...   \n",
       "3          N211LB -9.021498 -29.865860 -8.966519 -29.744867  ...   \n",
       "4          N211LB -9.023941 -29.869825 -9.021498 -29.865860  ...   \n",
       "\n",
       "  time_since_last_record cluster       eps max_distance       minpts  visit  \\\n",
       "0               00:00:00      -1  0.000785          5.0  1103.225806   -1.0   \n",
       "1               00:05:04      -1  0.000785          5.0  1103.225806   -1.0   \n",
       "2               00:01:11      -1  0.000785          5.0  1103.225806   -1.0   \n",
       "3               00:53:34      -1  0.000785          5.0  1103.225806   -1.0   \n",
       "4               00:01:33      -1  0.000785          5.0  1103.225806   -1.0   \n",
       "\n",
       "   stationary  country  country_code                           geometry  \n",
       "0       False      NaN           NaN  POINT (-3309486.160 -1001875.342)  \n",
       "1       False      NaN           NaN  POINT (-3310863.293 -1002177.593)  \n",
       "2       False      NaN           NaN  POINT (-3311183.448 -1002247.691)  \n",
       "3       False      NaN           NaN  POINT (-3324652.327 -1008444.112)  \n",
       "4       False      NaN           NaN  POINT (-3325093.709 -1008719.473)  \n",
       "\n",
       "[5 rows x 23 columns]"
      ]
     },
     "execution_count": 5,
     "metadata": {},
     "output_type": "execute_result"
    }
   ],
   "source": [
    "gdf.head()"
   ]
  },
  {
   "cell_type": "code",
   "execution_count": 6,
   "metadata": {},
   "outputs": [],
   "source": [
    "# Loon provide around 40 squared km of coverage. We will create circles of the same surface with their centre in\n",
    "# each one of the traces\n",
    "\n",
    "# In circles: A = pi * radius^2\n",
    "radius = math.sqrt((40 * 1000000)/math.pi)"
   ]
  },
  {
   "cell_type": "code",
   "execution_count": 7,
   "metadata": {},
   "outputs": [],
   "source": [
    "gdf['radius_geometry'] = gdf.geometry.buffer(radius)"
   ]
  },
  {
   "cell_type": "code",
   "execution_count": 8,
   "metadata": {},
   "outputs": [
    {
     "data": {
      "text/plain": [
       "811731.19920424"
      ]
     },
     "execution_count": 8,
     "metadata": {},
     "output_type": "execute_result"
    }
   ],
   "source": [
    "# TOTAL AREA COVERED BY THE TARGET LOONS\n",
    "\n",
    "# We must change the geometry column to the one with the radius\n",
    "gdf = gdf.set_geometry('radius_geometry')\n",
    "\n",
    "total_coverage_union = gdf.geometry.unary_union.area/1000000\n",
    "\n",
    "total_coverage_union"
   ]
  },
  {
   "cell_type": "code",
   "execution_count": 9,
   "metadata": {},
   "outputs": [],
   "source": [
    "# TOTAL AREA COVERED BY EACH LOON\n",
    "area_df = pd.DataFrame()\n",
    "area_df['registration_id'] = flights_to_add\n",
    "area_df['total_area'] = 0\n",
    "    \n",
    "\n",
    "for loon in flights_to_add:\n",
    "    \n",
    "    area_in_km = gdf.loc[gdf.registration_id == loon].geometry.unary_union.area/1000000\n",
    "\n",
    "    area_df.loc[area_df.registration_id == loon, 'total_area'] = area_in_km\n",
    "    \n",
    "    "
   ]
  },
  {
   "cell_type": "code",
   "execution_count": 10,
   "metadata": {},
   "outputs": [
    {
     "data": {
      "text/plain": [
       "209132.56844796933"
      ]
     },
     "execution_count": 10,
     "metadata": {},
     "output_type": "execute_result"
    }
   ],
   "source": [
    "# STATIONARY AREA OF THE TARGET LOONS\n",
    "\n",
    "stationary_coverage_union = gdf.loc[gdf.stationary == True].geometry.unary_union.area/1000000\n",
    "stationary_coverage_union\n"
   ]
  },
  {
   "cell_type": "code",
   "execution_count": 11,
   "metadata": {},
   "outputs": [],
   "source": [
    "# SATIONARY AREA OF EACH LOON\n",
    "area_df['stationary_area'] = 0\n",
    "\n",
    "for loon in flights_to_add:\n",
    "\n",
    "    stationary_area_in_km = gdf.loc[(gdf.registration_id == loon) & (gdf.stationary == True)]\\\n",
    "                                                                .geometry.unary_union.area/1000000\n",
    "    \n",
    "    area_df.loc[area_df.registration_id == loon, 'stationary_area'] = stationary_area_in_km\n",
    "    \n",
    "    "
   ]
  },
  {
   "cell_type": "code",
   "execution_count": 12,
   "metadata": {
    "scrolled": false
   },
   "outputs": [
    {
     "data": {
      "text/plain": [
       "Timedelta('1650 days 03:38:08')"
      ]
     },
     "execution_count": 12,
     "metadata": {},
     "output_type": "execute_result"
    }
   ],
   "source": [
    "# TIME OF FLIGHT OF TARGET LOONS\n",
    "\n",
    "# there are outliers!!!\n",
    "total_time = gdf['time_since_last_record'].sum()\n",
    "\n",
    "total_time"
   ]
  },
  {
   "cell_type": "code",
   "execution_count": 13,
   "metadata": {},
   "outputs": [],
   "source": [
    "# TIME OF FLIGHT OF TARGET LOONS\n",
    "area_df['total_time'] = pd.NaT\n",
    "\n",
    "for loon in flights_to_add:\n",
    "    \n",
    "    total_time = gdf.loc[gdf.registration_id == loon].time_since_last_record.sum()\n",
    "    area_df.loc[area_df.registration_id == loon, 'total_time'] = total_time\n",
    "    \n",
    "\n",
    "    "
   ]
  },
  {
   "cell_type": "code",
   "execution_count": 14,
   "metadata": {},
   "outputs": [
    {
     "data": {
      "text/plain": [
       "Timedelta('651 days 12:23:01')"
      ]
     },
     "execution_count": 14,
     "metadata": {},
     "output_type": "execute_result"
    }
   ],
   "source": [
    "# STATIONARY TIME OF TARGET LOONS\n",
    "total_stationary_time = gdf.loc[gdf.stationary == True]['time_since_last_record'].sum()\n",
    "\n",
    "total_stationary_time"
   ]
  },
  {
   "cell_type": "code",
   "execution_count": 15,
   "metadata": {},
   "outputs": [],
   "source": [
    "# TIME OF FLIGHT OF TARGET LOONS\n",
    "area_df['stationary_time'] = pd.NaT\n",
    "\n",
    "for loon in flights_to_add:\n",
    "    \n",
    "    stationary_time = gdf.loc[(gdf.registration_id == loon) & (gdf.stationary == True)]['time_since_last_record'].sum()\n",
    "    area_df.loc[area_df.registration_id == loon, 'stationary_time'] = stationary_time\n",
    "    "
   ]
  },
  {
   "cell_type": "code",
   "execution_count": 16,
   "metadata": {},
   "outputs": [
    {
     "data": {
      "text/html": [
       "<div>\n",
       "<style scoped>\n",
       "    .dataframe tbody tr th:only-of-type {\n",
       "        vertical-align: middle;\n",
       "    }\n",
       "\n",
       "    .dataframe tbody tr th {\n",
       "        vertical-align: top;\n",
       "    }\n",
       "\n",
       "    .dataframe thead th {\n",
       "        text-align: right;\n",
       "    }\n",
       "</style>\n",
       "<table border=\"1\" class=\"dataframe\">\n",
       "  <thead>\n",
       "    <tr style=\"text-align: right;\">\n",
       "      <th></th>\n",
       "      <th>registration_id</th>\n",
       "      <th>total_area</th>\n",
       "      <th>stationary_area</th>\n",
       "      <th>total_time</th>\n",
       "      <th>stationary_time</th>\n",
       "    </tr>\n",
       "  </thead>\n",
       "  <tbody>\n",
       "    <tr>\n",
       "      <th>0</th>\n",
       "      <td>N211LB</td>\n",
       "      <td>216207.694119</td>\n",
       "      <td>39998.524519</td>\n",
       "      <td>700 days 00:44:08</td>\n",
       "      <td>12 days 20:24:38</td>\n",
       "    </tr>\n",
       "    <tr>\n",
       "      <th>1</th>\n",
       "      <td>N226LB</td>\n",
       "      <td>315922.073276</td>\n",
       "      <td>108682.549624</td>\n",
       "      <td>844 days 12:20:04</td>\n",
       "      <td>616 days 02:01:56</td>\n",
       "    </tr>\n",
       "    <tr>\n",
       "      <th>2</th>\n",
       "      <td>N235LB</td>\n",
       "      <td>295193.564006</td>\n",
       "      <td>67428.717419</td>\n",
       "      <td>105 days 14:33:56</td>\n",
       "      <td>22 days 13:56:27</td>\n",
       "    </tr>\n",
       "  </tbody>\n",
       "</table>\n",
       "</div>"
      ],
      "text/plain": [
       "  registration_id     total_area  stationary_area         total_time  \\\n",
       "0          N211LB  216207.694119     39998.524519  700 days 00:44:08   \n",
       "1          N226LB  315922.073276    108682.549624  844 days 12:20:04   \n",
       "2          N235LB  295193.564006     67428.717419  105 days 14:33:56   \n",
       "\n",
       "     stationary_time  \n",
       "0   12 days 20:24:38  \n",
       "1  616 days 02:01:56  \n",
       "2   22 days 13:56:27  "
      ]
     },
     "execution_count": 16,
     "metadata": {},
     "output_type": "execute_result"
    }
   ],
   "source": [
    "area_df"
   ]
  },
  {
   "cell_type": "code",
   "execution_count": 17,
   "metadata": {},
   "outputs": [
    {
     "data": {
      "text/html": [
       "<div>\n",
       "<style scoped>\n",
       "    .dataframe tbody tr th:only-of-type {\n",
       "        vertical-align: middle;\n",
       "    }\n",
       "\n",
       "    .dataframe tbody tr th {\n",
       "        vertical-align: top;\n",
       "    }\n",
       "\n",
       "    .dataframe thead th {\n",
       "        text-align: right;\n",
       "    }\n",
       "</style>\n",
       "<table border=\"1\" class=\"dataframe\">\n",
       "  <thead>\n",
       "    <tr style=\"text-align: right;\">\n",
       "      <th></th>\n",
       "      <th>registration_id</th>\n",
       "      <th>area</th>\n",
       "      <th>time</th>\n",
       "      <th>stationary</th>\n",
       "    </tr>\n",
       "  </thead>\n",
       "  <tbody>\n",
       "    <tr>\n",
       "      <th>0</th>\n",
       "      <td>N211LB</td>\n",
       "      <td>216207.694119</td>\n",
       "      <td>700 days 00:44:08</td>\n",
       "      <td>False</td>\n",
       "    </tr>\n",
       "    <tr>\n",
       "      <th>1</th>\n",
       "      <td>N211LB</td>\n",
       "      <td>39998.524519</td>\n",
       "      <td>12 days 20:24:38</td>\n",
       "      <td>True</td>\n",
       "    </tr>\n",
       "    <tr>\n",
       "      <th>2</th>\n",
       "      <td>N226LB</td>\n",
       "      <td>315922.073276</td>\n",
       "      <td>844 days 12:20:04</td>\n",
       "      <td>False</td>\n",
       "    </tr>\n",
       "    <tr>\n",
       "      <th>3</th>\n",
       "      <td>N226LB</td>\n",
       "      <td>108682.549624</td>\n",
       "      <td>616 days 02:01:56</td>\n",
       "      <td>True</td>\n",
       "    </tr>\n",
       "    <tr>\n",
       "      <th>4</th>\n",
       "      <td>N235LB</td>\n",
       "      <td>295193.564006</td>\n",
       "      <td>105 days 14:33:56</td>\n",
       "      <td>False</td>\n",
       "    </tr>\n",
       "    <tr>\n",
       "      <th>5</th>\n",
       "      <td>N235LB</td>\n",
       "      <td>67428.717419</td>\n",
       "      <td>22 days 13:56:27</td>\n",
       "      <td>True</td>\n",
       "    </tr>\n",
       "  </tbody>\n",
       "</table>\n",
       "</div>"
      ],
      "text/plain": [
       "  registration_id           area              time stationary\n",
       "0          N211LB  216207.694119 700 days 00:44:08      False\n",
       "1          N211LB   39998.524519  12 days 20:24:38       True\n",
       "2          N226LB  315922.073276 844 days 12:20:04      False\n",
       "3          N226LB  108682.549624 616 days 02:01:56       True\n",
       "4          N235LB  295193.564006 105 days 14:33:56      False\n",
       "5          N235LB   67428.717419  22 days 13:56:27       True"
      ]
     },
     "execution_count": 17,
     "metadata": {},
     "output_type": "execute_result"
    }
   ],
   "source": [
    "plot_df = pd.DataFrame(columns=['registration_id', 'area', 'time', 'stationary'])\n",
    "\n",
    "registration_id = pd.Series()\n",
    "area = pd.Series()\n",
    "time = pd.Series()\n",
    "stationary = pd.Series()\n",
    "\n",
    "for loon in flights_to_add:\n",
    "    \n",
    "    aux = area_df.loc[area_df.registration_id == loon]\n",
    "\n",
    "    plot_df = plot_df.append({'registration_id': loon, 'area': aux.total_area.values[0], \\\n",
    "                              'time': aux.total_time.values[0], 'stationary': False},\\\n",
    "                             ignore_index=True)\n",
    "    \n",
    "    plot_df = plot_df.append({'registration_id': loon, 'area': aux.stationary_area.values[0], \\\n",
    "                              'time': aux.stationary_time.values[0], 'stationary': True},\\\n",
    "                             ignore_index=True)\n",
    "\n",
    "plot_df"
   ]
  },
  {
   "cell_type": "code",
   "execution_count": 18,
   "metadata": {},
   "outputs": [
    {
     "data": {
      "image/png": "[encoded data removed]",
      "text/plain": [
       "<Figure size 1440x432 with 1 Axes>"
      ]
     },
     "metadata": {
      "needs_background": "light"
     },
     "output_type": "display_data"
    }
   ],
   "source": [
    "\n",
    "plt.figure(loon, figsize=(20,6))\n",
    "\n",
    "ax = sns.barplot(x=plot_df['registration_id'], y=\"area\", hue='stationary',\\\n",
    "                data=plot_df)\n",
    "\n",
    "#ax.set(ylim=(0, 50))\n",
    "dummy = ax.set_ylabel('area (km^2)')\n",
    "dummy = ax.set_xlabel('Loon')\n",
    "dummy = ax.set_title(loon + ': areas')\n",
    "dummy = ax.set_xticklabels(ax.get_xticklabels(), rotation=90)\n",
    "dummy = ax.tick_params(labelsize=15)"
   ]
  },
  {
   "cell_type": "code",
   "execution_count": 19,
   "metadata": {},
   "outputs": [
    {
     "data": {
      "image/png": "[encoded data removed]",
      "text/plain": [
       "<Figure size 1440x432 with 1 Axes>"
      ]
     },
     "metadata": {
      "needs_background": "light"
     },
     "output_type": "display_data"
    }
   ],
   "source": [
    "\n",
    "plt.figure(loon, figsize=(20,6))\n",
    "\n",
    "ax = sns.barplot(x=plot_df['registration_id'], y=\"time\", hue='stationary',\\\n",
    "                data=plot_df)\n",
    "\n",
    "#ax.set(ylim=(0, 50))\n",
    "dummy = ax.set_ylabel('Time')\n",
    "dummy = ax.set_xlabel('Loon')\n",
    "dummy = ax.set_title(loon + ': time')\n",
    "dummy = ax.set_xticklabels(ax.get_xticklabels(), rotation=90)\n",
    "dummy = ax.tick_params(labelsize=15)"
   ]
  },
  {
   "cell_type": "code",
   "execution_count": 85,
   "metadata": {},
   "outputs": [
    {
     "data": {
      "text/plain": [
       "array([nan, 'Brazil', 'United States of America', 'Peru', 'Ecuador',\n",
       "       'Mexico', 'Puerto Rico', 'France', 'Canada',\n",
       "       'United States Virgin Islands', 'British Virgin Islands', 'Guinea',\n",
       "       'Sierra Leone', 'Liberia', 'Colombia', 'Chile', 'Argentina',\n",
       "       'Uruguay', 'Mauritius', 'Kenya', 'Uganda', 'South Sudan',\n",
       "       'Democratic Republic of the Congo', 'Bolivia', 'The Bahamas',\n",
       "       'Turks and Caicos Islands'], dtype=object)"
      ]
     },
     "execution_count": 85,
     "metadata": {},
     "output_type": "execute_result"
    }
   ],
   "source": [
    "# USE CASE 1: Perú\n",
    "gdf.country.unique()"
   ]
  },
  {
   "cell_type": "code",
   "execution_count": 177,
   "metadata": {},
   "outputs": [],
   "source": [
    "# We just need the traces in Perú\n",
    "peru_bl = gdf.loc[gdf.country == 'Peru'].copy()\n",
    "#peru_bl = peru_bl.sort_values('ts')"
   ]
  },
  {
   "cell_type": "code",
   "execution_count": 178,
   "metadata": {
    "scrolled": true
   },
   "outputs": [
    {
     "data": {
      "text/html": [
       "<div>\n",
       "<style scoped>\n",
       "    .dataframe tbody tr th:only-of-type {\n",
       "        vertical-align: middle;\n",
       "    }\n",
       "\n",
       "    .dataframe tbody tr th {\n",
       "        vertical-align: top;\n",
       "    }\n",
       "\n",
       "    .dataframe thead th {\n",
       "        text-align: right;\n",
       "    }\n",
       "</style>\n",
       "<table border=\"1\" class=\"dataframe\">\n",
       "  <thead>\n",
       "    <tr style=\"text-align: right;\">\n",
       "      <th></th>\n",
       "      <th>registration_id</th>\n",
       "      <th>stationary</th>\n",
       "      <th>ts</th>\n",
       "      <th>aircraft_id</th>\n",
       "      <th>alt</th>\n",
       "      <th>speed</th>\n",
       "      <th>Direction</th>\n",
       "      <th>lat</th>\n",
       "      <th>lon</th>\n",
       "      <th>prev_lat</th>\n",
       "      <th>...</th>\n",
       "      <th>time_since_last_record</th>\n",
       "      <th>cluster</th>\n",
       "      <th>eps</th>\n",
       "      <th>max_distance</th>\n",
       "      <th>minpts</th>\n",
       "      <th>visit</th>\n",
       "      <th>country</th>\n",
       "      <th>country_code</th>\n",
       "      <th>geometry</th>\n",
       "      <th>radius_geometry</th>\n",
       "    </tr>\n",
       "  </thead>\n",
       "  <tbody>\n",
       "    <tr>\n",
       "      <th>0</th>\n",
       "      <td>N211LB</td>\n",
       "      <td>False</td>\n",
       "      <td>982</td>\n",
       "      <td>982</td>\n",
       "      <td>982</td>\n",
       "      <td>982</td>\n",
       "      <td>982</td>\n",
       "      <td>982</td>\n",
       "      <td>982</td>\n",
       "      <td>982</td>\n",
       "      <td>...</td>\n",
       "      <td>982</td>\n",
       "      <td>982</td>\n",
       "      <td>982</td>\n",
       "      <td>982</td>\n",
       "      <td>982</td>\n",
       "      <td>982</td>\n",
       "      <td>982</td>\n",
       "      <td>982</td>\n",
       "      <td>982</td>\n",
       "      <td>982</td>\n",
       "    </tr>\n",
       "    <tr>\n",
       "      <th>1</th>\n",
       "      <td>N211LB</td>\n",
       "      <td>True</td>\n",
       "      <td>7510</td>\n",
       "      <td>7510</td>\n",
       "      <td>7510</td>\n",
       "      <td>7510</td>\n",
       "      <td>7510</td>\n",
       "      <td>7510</td>\n",
       "      <td>7510</td>\n",
       "      <td>7510</td>\n",
       "      <td>...</td>\n",
       "      <td>7510</td>\n",
       "      <td>7510</td>\n",
       "      <td>7510</td>\n",
       "      <td>7510</td>\n",
       "      <td>7510</td>\n",
       "      <td>7510</td>\n",
       "      <td>7510</td>\n",
       "      <td>7510</td>\n",
       "      <td>7510</td>\n",
       "      <td>7510</td>\n",
       "    </tr>\n",
       "    <tr>\n",
       "      <th>2</th>\n",
       "      <td>N226LB</td>\n",
       "      <td>True</td>\n",
       "      <td>3030</td>\n",
       "      <td>3030</td>\n",
       "      <td>3030</td>\n",
       "      <td>3030</td>\n",
       "      <td>3030</td>\n",
       "      <td>3030</td>\n",
       "      <td>3030</td>\n",
       "      <td>3030</td>\n",
       "      <td>...</td>\n",
       "      <td>3030</td>\n",
       "      <td>3030</td>\n",
       "      <td>3030</td>\n",
       "      <td>3030</td>\n",
       "      <td>3030</td>\n",
       "      <td>3030</td>\n",
       "      <td>3030</td>\n",
       "      <td>3030</td>\n",
       "      <td>3030</td>\n",
       "      <td>3030</td>\n",
       "    </tr>\n",
       "    <tr>\n",
       "      <th>3</th>\n",
       "      <td>N235LB</td>\n",
       "      <td>False</td>\n",
       "      <td>10248</td>\n",
       "      <td>10245</td>\n",
       "      <td>10248</td>\n",
       "      <td>10248</td>\n",
       "      <td>10248</td>\n",
       "      <td>10248</td>\n",
       "      <td>10248</td>\n",
       "      <td>10248</td>\n",
       "      <td>...</td>\n",
       "      <td>10248</td>\n",
       "      <td>10248</td>\n",
       "      <td>10248</td>\n",
       "      <td>10248</td>\n",
       "      <td>10248</td>\n",
       "      <td>10248</td>\n",
       "      <td>10248</td>\n",
       "      <td>10248</td>\n",
       "      <td>10248</td>\n",
       "      <td>10248</td>\n",
       "    </tr>\n",
       "    <tr>\n",
       "      <th>4</th>\n",
       "      <td>N235LB</td>\n",
       "      <td>True</td>\n",
       "      <td>23569</td>\n",
       "      <td>23569</td>\n",
       "      <td>23569</td>\n",
       "      <td>23569</td>\n",
       "      <td>23569</td>\n",
       "      <td>23569</td>\n",
       "      <td>23569</td>\n",
       "      <td>23569</td>\n",
       "      <td>...</td>\n",
       "      <td>23569</td>\n",
       "      <td>23569</td>\n",
       "      <td>23569</td>\n",
       "      <td>23569</td>\n",
       "      <td>23569</td>\n",
       "      <td>23569</td>\n",
       "      <td>23569</td>\n",
       "      <td>23569</td>\n",
       "      <td>23569</td>\n",
       "      <td>23569</td>\n",
       "    </tr>\n",
       "  </tbody>\n",
       "</table>\n",
       "<p>5 rows × 24 columns</p>\n",
       "</div>"
      ],
      "text/plain": [
       "  registration_id  stationary     ts  aircraft_id    alt  speed  Direction  \\\n",
       "0          N211LB       False    982          982    982    982        982   \n",
       "1          N211LB        True   7510         7510   7510   7510       7510   \n",
       "2          N226LB        True   3030         3030   3030   3030       3030   \n",
       "3          N235LB       False  10248        10245  10248  10248      10248   \n",
       "4          N235LB        True  23569        23569  23569  23569      23569   \n",
       "\n",
       "     lat    lon  prev_lat  ...  time_since_last_record  cluster    eps  \\\n",
       "0    982    982       982  ...                     982      982    982   \n",
       "1   7510   7510      7510  ...                    7510     7510   7510   \n",
       "2   3030   3030      3030  ...                    3030     3030   3030   \n",
       "3  10248  10248     10248  ...                   10248    10248  10248   \n",
       "4  23569  23569     23569  ...                   23569    23569  23569   \n",
       "\n",
       "   max_distance  minpts  visit  country  country_code  geometry  \\\n",
       "0           982     982    982      982           982       982   \n",
       "1          7510    7510   7510     7510          7510      7510   \n",
       "2          3030    3030   3030     3030          3030      3030   \n",
       "3         10248   10248  10248    10248         10248     10248   \n",
       "4         23569   23569  23569    23569         23569     23569   \n",
       "\n",
       "   radius_geometry  \n",
       "0              982  \n",
       "1             7510  \n",
       "2             3030  \n",
       "3            10248  \n",
       "4            23569  \n",
       "\n",
       "[5 rows x 24 columns]"
      ]
     },
     "execution_count": 178,
     "metadata": {},
     "output_type": "execute_result"
    }
   ],
   "source": [
    "peru_bl.groupby(['registration_id', 'stationary']).count().reset_index()"
   ]
  },
  {
   "cell_type": "code",
   "execution_count": 179,
   "metadata": {},
   "outputs": [],
   "source": [
    "# When was Perú better covered?\n",
    "\n",
    "# First we need to break down the dates\n",
    "peru_bl['year'] = peru_bl['ts'].dt.year\n",
    "peru_bl['month'] = peru_bl['ts'].dt.month\n",
    "peru_bl['day'] = peru_bl['ts'].dt.day\n",
    "\n",
    "# Now we take the stationary traces \n",
    "peru_bl_service = peru_bl.loc[peru_bl.stationary == True]\n",
    "peru_bl_service = peru_bl_service.set_geometry('radius_geometry')\n",
    "\n"
   ]
  },
  {
   "cell_type": "code",
   "execution_count": null,
   "metadata": {},
   "outputs": [],
   "source": [
    "# How much surface of Perú has been covered by our loons?\n",
    "\n",
    "peru_total_service_area = peru_bl_service['radius_geometry'].unary_union.area/1000000\n",
    "peru_total_service_area\n"
   ]
  },
  {
   "cell_type": "code",
   "execution_count": 180,
   "metadata": {},
   "outputs": [],
   "source": [
    "\n",
    "# Let's get the number of traces of each serviced day\n",
    "\n",
    "peru_log = peru_bl_service.groupby(['year', 'month', 'day'])['ts'].count().reset_index()\n",
    "\n",
    "peru_log['num_traces'] = peru_log['ts']\n",
    "peru_log = peru_log.drop('ts', axis=1)"
   ]
  },
  {
   "cell_type": "code",
   "execution_count": 181,
   "metadata": {},
   "outputs": [],
   "source": [
    "# Let's get the number of loons of each serviced day\n",
    "\n",
    "peru_log['num_loons'] = peru_bl_service.groupby(['year', 'month', 'day'])['registration_id'].nunique()\\\n",
    "                                                            .reset_index()['registration_id']\n"
   ]
  },
  {
   "cell_type": "code",
   "execution_count": 209,
   "metadata": {},
   "outputs": [
    {
     "data": {
      "image/png": "[encoded data removed]",
      "text/plain": [
       "<Figure size 1440x432 with 1 Axes>"
      ]
     },
     "metadata": {
      "needs_background": "light"
     },
     "output_type": "display_data"
    }
   ],
   "source": [
    "peru_log['ts'] = peru_log['year'].astype(str) + '-' + peru_log['month'].astype(str)\\\n",
    "                            + '-' + peru_log['day'].astype(str)\n",
    "\n",
    "plt.figure(loon, figsize=(20,6))\n",
    "\n",
    "ax = sns.lineplot(x=\"ts\", y=\"num_traces\", data=peru_log, sort=False)\n",
    "\n",
    "\n",
    "dummy = ax.set_ylabel('Number of traces')\n",
    "dummy = ax.set_xlabel('Timestamp')\n",
    "dummy = ax.set_title('Perú' + ': service traces')\n",
    "plt.setp(ax.get_xticklabels(), rotation=90)\n",
    "dummy = ax.tick_params(labelsize=15)\n"
   ]
  },
  {
   "cell_type": "code",
   "execution_count": 210,
   "metadata": {},
   "outputs": [
    {
     "data": {
      "image/png": "[encoded data removed]",
      "text/plain": [
       "<Figure size 1440x432 with 1 Axes>"
      ]
     },
     "metadata": {
      "needs_background": "light"
     },
     "output_type": "display_data"
    }
   ],
   "source": [
    "\n",
    "plt.figure(loon, figsize=(20,6))\n",
    "\n",
    "ax = sns.lineplot(x=\"ts\", y=\"num_loons\", data=peru_log, sort=False)\n",
    "\n",
    "dummy = ax.set_ylabel('Number of loons')\n",
    "dummy = ax.set_xlabel('Timestamp')\n",
    "dummy = ax.set_title('Perú' + ': service traces')\n",
    "plt.setp(ax.get_xticklabels(), rotation=90)\n",
    "dummy = ax.tick_params(labelsize=15)\n",
    "\n"
   ]
  },
  {
   "cell_type": "code",
   "execution_count": 184,
   "metadata": {},
   "outputs": [],
   "source": [
    "\n",
    "def compute_area(x):\n",
    "    geoseries = gpd.GeoSeries(x.values)\n",
    "    \n",
    "    area = geoseries.unary_union.area/1000000\n",
    "    return area\n",
    "\n",
    "    \n",
    "#.agg(lambda x: x.diff().mean())\n",
    "peru_log['area'] = peru_bl_service.groupby(['year', 'month', 'day'])['radius_geometry']\\\n",
    "                            .agg(lambda x: compute_area(x)).reset_index()['radius_geometry']\n"
   ]
  },
  {
   "cell_type": "code",
   "execution_count": 205,
   "metadata": {},
   "outputs": [],
   "source": [
    "peru_log['area_per_trace'] = peru_log['area'] / peru_log['num_traces']\n"
   ]
  },
  {
   "cell_type": "code",
   "execution_count": 214,
   "metadata": {},
   "outputs": [
    {
     "data": {
      "image/png": "[encoded data removed]",
      "text/plain": [
       "<Figure size 1440x432 with 1 Axes>"
      ]
     },
     "metadata": {
      "needs_background": "light"
     },
     "output_type": "display_data"
    }
   ],
   "source": [
    "\n",
    "plt.figure(loon, figsize=(20,6))\n",
    "\n",
    "ax = sns.lineplot(x=\"ts\", y=\"area\", data=peru_log.sort_values('num_traces'), sort=False, label='Area (km2)')\n",
    "ax = sns.lineplot(x=\"ts\", y=\"num_traces\", data=peru_log.sort_values('num_traces'), \\\n",
    "                    sort=False, label='Number of Traces', ax=ax)\n",
    "\n",
    "dummy = ax.set_ylabel('')\n",
    "dummy = ax.set_xlabel('Timestamp')\n",
    "dummy = ax.set_title('Perú' + ': service traces')\n",
    "plt.setp(ax.get_xticklabels(), rotation=90)\n",
    "dummy = ax.tick_params(labelsize=15)"
   ]
  },
  {
   "cell_type": "code",
   "execution_count": 199,
   "metadata": {},
   "outputs": [
    {
     "data": {
      "image/png": "[encoded data removed]",
      "text/plain": [
       "<Figure size 1440x432 with 1 Axes>"
      ]
     },
     "metadata": {
      "needs_background": "light"
     },
     "output_type": "display_data"
    }
   ],
   "source": [
    "\n",
    "plt.figure(loon, figsize=(20,6))\n",
    "\n",
    "ax = sns.barplot(x=\"ts\", y=\"area_per_trace\", data=peru_log)\n",
    "\n",
    "dummy = ax.set_ylabel('Area / Trace')\n",
    "dummy = ax.set_xlabel('Timestamp')\n",
    "dummy = ax.set_title('Perú' + ': service traces')\n",
    "plt.setp(ax.get_xticklabels(), rotation=90)\n",
    "dummy = ax.tick_params(labelsize=15)\n"
   ]
  },
  {
   "cell_type": "code",
   "execution_count": null,
   "metadata": {},
   "outputs": [],
   "source": []
  },
  {
   "cell_type": "code",
   "execution_count": null,
   "metadata": {},
   "outputs": [],
   "source": []
  },
  {
   "cell_type": "code",
   "execution_count": null,
   "metadata": {},
   "outputs": [],
   "source": []
  },
  {
   "cell_type": "code",
   "execution_count": null,
   "metadata": {},
   "outputs": [],
   "source": []
  },
  {
   "cell_type": "code",
   "execution_count": null,
   "metadata": {},
   "outputs": [],
   "source": []
  },
  {
   "cell_type": "code",
   "execution_count": null,
   "metadata": {
    "scrolled": true
   },
   "outputs": [],
   "source": [
    "#m_6 = folium.Map(location=[-8.9, -29.72], zoom_start=5) \n",
    "\n",
    "#folium.GeoJson(service_coverage.geometry.to_crs(epsg=4326)).add_to(m_6)\n",
    "\n",
    "#m_6"
   ]
  },
  {
   "cell_type": "code",
   "execution_count": null,
   "metadata": {},
   "outputs": [],
   "source": []
  },
  {
   "cell_type": "code",
   "execution_count": null,
   "metadata": {
    "scrolled": false
   },
   "outputs": [],
   "source": [
    "m_7 = folium.Map(location=[-8.9, -29.72], zoom_start=5) \n",
    "\n",
    "HeatMap(data=gdf[['lat', 'lon']], radius=9).add_to(m_7)\n",
    "\n",
    "m_7\n"
   ]
  },
  {
   "cell_type": "code",
   "execution_count": null,
   "metadata": {},
   "outputs": [],
   "source": [
    "# In order to get the best covered areas we look for each position, how many of the areas include them.\n",
    "# The more areas the more times it was covered\n",
    "\n",
    "service_areas = gpd.GeoDataFrame(bl.loc[bl.stationary], geometry=service_coverage)\n",
    "\n",
    "points_in_areas = gpd.sjoin(service_areas, gdf, how='right', op='contains', lsuffix='area', rsuffix='point')\n",
    "\n",
    "points_in_areas['coord'] = points_in_areas.lat_y.astype(str) + ',' + points_in_areas.lon_y.astype(str)\n",
    "\n"
   ]
  },
  {
   "cell_type": "code",
   "execution_count": null,
   "metadata": {},
   "outputs": [],
   "source": [
    "points_by_times_covered = points_in_areas.groupby('coord').count()[['index_area']].reset_index()\n",
    "\n",
    "points_by_times_covered['times_covered'] = points_by_times_covered['index_area']\n",
    "\n",
    "points_by_times_covered = points_by_times_covered.drop('index_area', axis=1)\n",
    "\n",
    "points_by_times_covered = points_by_times_covered.sort_values('times_covered', ascending=False)\n"
   ]
  },
  {
   "cell_type": "code",
   "execution_count": null,
   "metadata": {},
   "outputs": [],
   "source": [
    "# De aquí se podrían sacar porcentajes de tiempo de cobertura entiendo\n",
    "points_by_times_covered"
   ]
  },
  {
   "cell_type": "code",
   "execution_count": null,
   "metadata": {},
   "outputs": [],
   "source": [
    "# Next step should be to load all perú loons and study the area of Perú.\n"
   ]
  },
  {
   "cell_type": "code",
   "execution_count": null,
   "metadata": {},
   "outputs": [],
   "source": []
  },
  {
   "cell_type": "code",
   "execution_count": null,
   "metadata": {},
   "outputs": [],
   "source": [
    "# First get a bl with the stay points traces to check service time\n",
    "bl_sp = bl.loc[bl.stationary == True]\n",
    "\n",
    "stationary_by_episode_start = bl_sp.groupby(['cluster','episode'])['ts'].first().reset_index()\n",
    "\n",
    "stationary_by_episode_end = bl_sp.groupby(['cluster','episode'])['ts'].last().reset_index()\n",
    "\n",
    "stationary_by_episode_duration = stationary_by_episode_start[['cluster', 'episode']]\n",
    "stationary_by_episode_duration['start'] = stationary_by_episode_start['ts']\n",
    "stationary_by_episode_duration['end'] = stationary_by_episode_end['ts']\n",
    "stationary_by_episode_duration['duration'] = stationary_by_episode_duration['end'] \\\n",
    "                                            -stationary_by_episode_duration['start']\n",
    "\n",
    "total_service_time = stationary_by_episode_duration['duration'].sum()\n",
    "\n",
    "# For the total time we need a reference so we use the first record and compute the time delt\n",
    "flight_times = bl['ts'] - bl['ts'].shift()\n",
    "flight_times = flight_times.fillna(pd.Timedelta(seconds=0))\n",
    "\n",
    "total_flight_time = flight_times.sum()\n",
    "\n",
    "# Let's compute the ratio\n",
    "ratio = total_service_time / total_flight_time\n",
    "ratio"
   ]
  },
  {
   "cell_type": "code",
   "execution_count": null,
   "metadata": {},
   "outputs": [],
   "source": []
  },
  {
   "cell_type": "code",
   "execution_count": null,
   "metadata": {},
   "outputs": [],
   "source": []
  },
  {
   "cell_type": "code",
   "execution_count": null,
   "metadata": {},
   "outputs": [],
   "source": []
  },
  {
   "cell_type": "code",
   "execution_count": null,
   "metadata": {},
   "outputs": [],
   "source": []
  },
  {
   "cell_type": "code",
   "execution_count": null,
   "metadata": {},
   "outputs": [],
   "source": []
  },
  {
   "cell_type": "code",
   "execution_count": null,
   "metadata": {},
   "outputs": [],
   "source": []
  },
  {
   "cell_type": "code",
   "execution_count": null,
   "metadata": {},
   "outputs": [],
   "source": []
  },
  {
   "cell_type": "code",
   "execution_count": null,
   "metadata": {},
   "outputs": [],
   "source": []
  },
  {
   "cell_type": "code",
   "execution_count": null,
   "metadata": {},
   "outputs": [],
   "source": []
  },
  {
   "cell_type": "code",
   "execution_count": null,
   "metadata": {},
   "outputs": [],
   "source": []
  },
  {
   "cell_type": "code",
   "execution_count": null,
   "metadata": {},
   "outputs": [],
   "source": []
  },
  {
   "cell_type": "code",
   "execution_count": null,
   "metadata": {},
   "outputs": [],
   "source": []
  },
  {
   "cell_type": "code",
   "execution_count": null,
   "metadata": {},
   "outputs": [],
   "source": []
  },
  {
   "cell_type": "code",
   "execution_count": null,
   "metadata": {},
   "outputs": [],
   "source": []
  }
 ],
 "metadata": {
  "kernelspec": {
   "display_name": "Python 3",
   "language": "python",
   "name": "python3"
  },
  "language_info": {
   "codemirror_mode": {
    "name": "ipython",
    "version": 3
   },
   "file_extension": ".py",
   "mimetype": "text/x-python",
   "name": "python",
   "nbconvert_exporter": "python",
   "pygments_lexer": "ipython3",
   "version": "3.7.1"
  }
 },
 "nbformat": 4,
 "nbformat_minor": 2
}
