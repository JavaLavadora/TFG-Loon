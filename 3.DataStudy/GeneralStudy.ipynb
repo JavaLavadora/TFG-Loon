{
 "cells": [
  {
   "cell_type": "code",
   "execution_count": 1,
   "metadata": {},
   "outputs": [],
   "source": [
    "import pandas as pd\n",
    "import numpy as np\n",
    "import seaborn as sns\n",
    "import matplotlib.pyplot as plt\n",
    "import time"
   ]
  },
  {
   "cell_type": "code",
   "execution_count": null,
   "metadata": {},
   "outputs": [],
   "source": [
    "#Aqui va el estudio inicial para ver los datos"
   ]
  },
  {
   "cell_type": "code",
   "execution_count": 2,
   "metadata": {},
   "outputs": [
    {
     "name": "stderr",
     "output_type": "stream",
     "text": [
      "/home/toni/.local/lib/python2.7/site-packages/numpy/lib/arraysetops.py:569: FutureWarning: elementwise comparison failed; returning scalar instead, but in the future will perform elementwise comparison\n",
      "  mask |= (ar1 == a)\n"
     ]
    }
   ],
   "source": [
    "# First read the clean initial loon data\n",
    "raw_df = pd.read_csv('../../../../og_data/extract_clean_with_country.csv', index_col='Unnamed: 0',\n",
    "                       low_memory=False)"
   ]
  },
  {
   "cell_type": "code",
   "execution_count": 3,
   "metadata": {},
   "outputs": [],
   "source": [
    "# Get a baseline\n",
    "bl = raw_df.sort_values(by=['ts'])"
   ]
  },
  {
   "cell_type": "code",
   "execution_count": 4,
   "metadata": {},
   "outputs": [
    {
     "data": {
      "text/html": [
       "<div>\n",
       "<style scoped>\n",
       "    .dataframe tbody tr th:only-of-type {\n",
       "        vertical-align: middle;\n",
       "    }\n",
       "\n",
       "    .dataframe tbody tr th {\n",
       "        vertical-align: top;\n",
       "    }\n",
       "\n",
       "    .dataframe thead th {\n",
       "        text-align: right;\n",
       "    }\n",
       "</style>\n",
       "<table border=\"1\" class=\"dataframe\">\n",
       "  <thead>\n",
       "    <tr style=\"text-align: right;\">\n",
       "      <th></th>\n",
       "      <th>craw_ts</th>\n",
       "      <th>flight_id</th>\n",
       "      <th>aircraft_id</th>\n",
       "      <th>lat</th>\n",
       "      <th>lon</th>\n",
       "      <th>azi</th>\n",
       "      <th>alt</th>\n",
       "      <th>speed</th>\n",
       "      <th>ts</th>\n",
       "      <th>country</th>\n",
       "      <th>country_code</th>\n",
       "      <th>trip_id</th>\n",
       "    </tr>\n",
       "  </thead>\n",
       "  <tbody>\n",
       "    <tr>\n",
       "      <th>0</th>\n",
       "      <td>1.468556e+12</td>\n",
       "      <td>HBAL417</td>\n",
       "      <td>BA1102</td>\n",
       "      <td>44.7567</td>\n",
       "      <td>-113.6905</td>\n",
       "      <td>194</td>\n",
       "      <td>62300.0</td>\n",
       "      <td>4</td>\n",
       "      <td>2016-07-15 04:07:57</td>\n",
       "      <td>United States of America</td>\n",
       "      <td>USA</td>\n",
       "      <td>HBAL417-BA1102</td>\n",
       "    </tr>\n",
       "    <tr>\n",
       "      <th>1</th>\n",
       "      <td>1.468556e+12</td>\n",
       "      <td>HBAL406</td>\n",
       "      <td>BA1123</td>\n",
       "      <td>43.3738</td>\n",
       "      <td>-113.7937</td>\n",
       "      <td>258</td>\n",
       "      <td>60500.0</td>\n",
       "      <td>5</td>\n",
       "      <td>2016-07-15 04:07:59</td>\n",
       "      <td>United States of America</td>\n",
       "      <td>USA</td>\n",
       "      <td>HBAL406-BA1123</td>\n",
       "    </tr>\n",
       "    <tr>\n",
       "      <th>2</th>\n",
       "      <td>1.468556e+12</td>\n",
       "      <td>HBAL427</td>\n",
       "      <td>BA111F</td>\n",
       "      <td>18.2783</td>\n",
       "      <td>-65.7778</td>\n",
       "      <td>258</td>\n",
       "      <td>57600.0</td>\n",
       "      <td>29</td>\n",
       "      <td>2016-07-15 04:07:59</td>\n",
       "      <td>Puerto Rico</td>\n",
       "      <td>PRI</td>\n",
       "      <td>HBAL427-BA111F</td>\n",
       "    </tr>\n",
       "    <tr>\n",
       "      <th>3</th>\n",
       "      <td>1.468556e+12</td>\n",
       "      <td>HBAL287</td>\n",
       "      <td>BA1008</td>\n",
       "      <td>-7.2694</td>\n",
       "      <td>-79.8547</td>\n",
       "      <td>356</td>\n",
       "      <td>59900.0</td>\n",
       "      <td>19</td>\n",
       "      <td>2016-07-15 04:08:00</td>\n",
       "      <td>NaN</td>\n",
       "      <td>NaN</td>\n",
       "      <td>HBAL287-BA1008</td>\n",
       "    </tr>\n",
       "    <tr>\n",
       "      <th>4</th>\n",
       "      <td>1.468556e+12</td>\n",
       "      <td>HBAL305</td>\n",
       "      <td>BA1007</td>\n",
       "      <td>-7.3076</td>\n",
       "      <td>-78.5334</td>\n",
       "      <td>352</td>\n",
       "      <td>60200.0</td>\n",
       "      <td>16</td>\n",
       "      <td>2016-07-15 04:08:00</td>\n",
       "      <td>Peru</td>\n",
       "      <td>PER</td>\n",
       "      <td>HBAL305-BA1007</td>\n",
       "    </tr>\n",
       "  </tbody>\n",
       "</table>\n",
       "</div>"
      ],
      "text/plain": [
       "        craw_ts flight_id aircraft_id      lat       lon  azi      alt  speed  \\\n",
       "0  1.468556e+12   HBAL417      BA1102  44.7567 -113.6905  194  62300.0      4   \n",
       "1  1.468556e+12   HBAL406      BA1123  43.3738 -113.7937  258  60500.0      5   \n",
       "2  1.468556e+12   HBAL427      BA111F  18.2783  -65.7778  258  57600.0     29   \n",
       "3  1.468556e+12   HBAL287      BA1008  -7.2694  -79.8547  356  59900.0     19   \n",
       "4  1.468556e+12   HBAL305      BA1007  -7.3076  -78.5334  352  60200.0     16   \n",
       "\n",
       "                    ts                   country country_code         trip_id  \n",
       "0  2016-07-15 04:07:57  United States of America          USA  HBAL417-BA1102  \n",
       "1  2016-07-15 04:07:59  United States of America          USA  HBAL406-BA1123  \n",
       "2  2016-07-15 04:07:59               Puerto Rico          PRI  HBAL427-BA111F  \n",
       "3  2016-07-15 04:08:00                       NaN          NaN  HBAL287-BA1008  \n",
       "4  2016-07-15 04:08:00                      Peru          PER  HBAL305-BA1007  "
      ]
     },
     "execution_count": 4,
     "metadata": {},
     "output_type": "execute_result"
    }
   ],
   "source": [
    "bl.head()"
   ]
  },
  {
   "cell_type": "code",
   "execution_count": 5,
   "metadata": {},
   "outputs": [],
   "source": [
    "# VELOCITY STUDY"
   ]
  },
  {
   "cell_type": "code",
   "execution_count": 6,
   "metadata": {},
   "outputs": [],
   "source": [
    "# First study the speed by loon\n",
    "loons_by_avg_speed = bl[['aircraft_id', 'speed']].groupby(by='aircraft_id').mean() \\\n",
    "                                                    .sort_values(by=['speed'], ascending=False)                          \n",
    "loons_by_top_speed = bl[['aircraft_id', 'speed']].groupby(by='aircraft_id').max()  \\\n",
    "                                                    .sort_values(by=['speed'], ascending=False)"
   ]
  },
  {
   "cell_type": "code",
   "execution_count": 18,
   "metadata": {},
   "outputs": [
    {
     "data": {
      "image/png": "[encoded data removed]",
      "text/plain": [
       "<Figure size 1152x432 with 1 Axes>"
      ]
     },
     "metadata": {
      "needs_background": "light"
     },
     "output_type": "display_data"
    }
   ],
   "source": [
    "# Plot velocities for loons\n",
    "plt.figure(figsize=(16,6))\n",
    "plt.title(\"Top loons by average speed\")\n",
    "\n",
    "ax = sns.barplot(x=loons_by_avg_speed.head(100).index, y=loons_by_avg_speed.head(100)['speed'])\n",
    "\n",
    "# Add label for vertical axis\n",
    "plt.ylabel(\"Velocity (in km/h)\")\n",
    "\n",
    "b = ax.set_xticklabels(ax.get_xticklabels(), rotation=90)"
   ]
  },
  {
   "cell_type": "code",
   "execution_count": 19,
   "metadata": {},
   "outputs": [
    {
     "data": {
      "image/png": "[encoded data removed]",
      "text/plain": [
       "<Figure size 1152x432 with 1 Axes>"
      ]
     },
     "metadata": {
      "needs_background": "light"
     },
     "output_type": "display_data"
    }
   ],
   "source": [
    "# Plot velocities for loons\n",
    "plt.figure(figsize=(16,6))\n",
    "plt.title(\"Top loons by top speed\")\n",
    "\n",
    "ax = sns.barplot(x=loons_by_top_speed.head(100).index, y=loons_by_top_speed.head(100)['speed'])\n",
    "\n",
    "# Add label for vertical axis\n",
    "plt.ylabel(\"Velocity (in km/h)\")\n",
    "\n",
    "b = ax.set_xticklabels(ax.get_xticklabels(), rotation=90)"
   ]
  },
  {
   "cell_type": "code",
   "execution_count": 9,
   "metadata": {},
   "outputs": [],
   "source": [
    "# The avg velocity on the first three loons is sensibly higher than the rest. Let's loook at their data\n",
    "best_avg_loons = loons_by_avg_speed.head(3)\n",
    "best_avg_loons = best_avg_loons.reset_index()\n",
    "\n",
    "worst_avg_loons = loons_by_avg_speed.tail(3)\n",
    "worst_avg_loons = worst_avg_loons.reset_index()"
   ]
  },
  {
   "cell_type": "code",
   "execution_count": 10,
   "metadata": {},
   "outputs": [
    {
     "data": {
      "text/plain": [
       "(3, 12)"
      ]
     },
     "execution_count": 10,
     "metadata": {},
     "output_type": "execute_result"
    }
   ],
   "source": [
    "bl.loc[bl.aircraft_id == best_avg_loons.iloc[0].aircraft_id].shape"
   ]
  },
  {
   "cell_type": "code",
   "execution_count": 11,
   "metadata": {},
   "outputs": [
    {
     "data": {
      "text/plain": [
       "(39, 12)"
      ]
     },
     "execution_count": 11,
     "metadata": {},
     "output_type": "execute_result"
    }
   ],
   "source": [
    "bl.loc[bl.aircraft_id == best_avg_loons.iloc[1].aircraft_id].shape"
   ]
  },
  {
   "cell_type": "code",
   "execution_count": 12,
   "metadata": {},
   "outputs": [
    {
     "data": {
      "text/plain": [
       "(109, 12)"
      ]
     },
     "execution_count": 12,
     "metadata": {},
     "output_type": "execute_result"
    }
   ],
   "source": [
    "bl.loc[bl.aircraft_id == best_avg_loons.iloc[2].aircraft_id].shape"
   ]
  },
  {
   "cell_type": "code",
   "execution_count": 13,
   "metadata": {},
   "outputs": [
    {
     "data": {
      "text/plain": [
       "(5, 12)"
      ]
     },
     "execution_count": 13,
     "metadata": {},
     "output_type": "execute_result"
    }
   ],
   "source": [
    "bl.loc[bl.aircraft_id == worst_avg_loons.iloc[0].aircraft_id].shape"
   ]
  },
  {
   "cell_type": "code",
   "execution_count": 14,
   "metadata": {},
   "outputs": [
    {
     "data": {
      "text/plain": [
       "(153, 12)"
      ]
     },
     "execution_count": 14,
     "metadata": {},
     "output_type": "execute_result"
    }
   ],
   "source": [
    "bl.loc[bl.aircraft_id == worst_avg_loons.iloc[1].aircraft_id].shape"
   ]
  },
  {
   "cell_type": "code",
   "execution_count": 15,
   "metadata": {},
   "outputs": [
    {
     "data": {
      "text/plain": [
       "(1, 12)"
      ]
     },
     "execution_count": 15,
     "metadata": {},
     "output_type": "execute_result"
    }
   ],
   "source": [
    "bl.loc[bl.aircraft_id == worst_avg_loons.iloc[2].aircraft_id].shape"
   ]
  },
  {
   "cell_type": "code",
   "execution_count": 16,
   "metadata": {},
   "outputs": [],
   "source": [
    "# The data lacks several records so we cannot consider it for the study\n",
    "# We can observe that the top velocity is steadier but again we cannot trust the data. \n",
    "# We should first get reliable data and then study the velocity. \n",
    "# We can take a look at the velocity by flight instead of by aircraft\n",
    "# since we know how to get complete flights from last part (SampleCompleteFlights)"
   ]
  },
  {
   "cell_type": "code",
   "execution_count": 17,
   "metadata": {},
   "outputs": [],
   "source": [
    "# Second study the speed by flights\n",
    "# We will use as identifier a combination of flight_id-aircraft_id\n",
    "trips_by_avg_speed = bl[['trip_id', 'speed']].groupby(by='trip_id').mean() \\\n",
    "                                                    .sort_values(by=['speed'], ascending=False)                          \n",
    "trips_by_top_speed = bl[['trip_id', 'speed']].groupby(by='trip_id').max()  \\\n",
    "                                                    .sort_values(by=['speed'], ascending=False)"
   ]
  },
  {
   "cell_type": "code",
   "execution_count": 20,
   "metadata": {},
   "outputs": [
    {
     "data": {
      "image/png": "[encoded data removed]",
      "text/plain": [
       "<Figure size 1152x432 with 1 Axes>"
      ]
     },
     "metadata": {
      "needs_background": "light"
     },
     "output_type": "display_data"
    }
   ],
   "source": [
    "# Plot velocities for loons\n",
    "plt.figure(figsize=(16,6))\n",
    "plt.title(\"Top trips by top speed\")\n",
    "\n",
    "ax = sns.barplot(x=trips_by_top_speed.head(100).index, y=trips_by_top_speed.head(100)['speed'])\n",
    "\n",
    "# Add label for vertical axis\n",
    "plt.ylabel(\"Velocity (in km/h)\")\n",
    "\n",
    "b = ax.set_xticklabels(ax.get_xticklabels(), rotation=90)"
   ]
  },
  {
   "cell_type": "code",
   "execution_count": 21,
   "metadata": {},
   "outputs": [],
   "source": [
    "# Now we must check which top and last flights are reliable\n",
    "# Compute the variance of the frequency of the records of a given flight\n",
    "\n",
    "def compute_ts_frequency_variance(t_id):\n",
    "    # Get the history of the flight\n",
    "    trip_records = bl.loc[bl.trip_id == t_id].copy()\n",
    "    \n",
    "    # Compute the time since last record in a new column\n",
    "    trip_records['ts'] = pd.to_datetime(trip_records['ts'])\n",
    "    trip_records['time_since_last_record'] = trip_records['ts'] - trip_records['ts'].shift()\n",
    "    trip_records['time_since_last_record'] = trip_records['time_since_last_record'].fillna(0)\n",
    "    \n",
    "    # Compute the variance of such column\n",
    "\n",
    "    return trip_records['time_since_last_record'].std()"
   ]
  },
  {
   "cell_type": "code",
   "execution_count": 22,
   "metadata": {},
   "outputs": [],
   "source": [
    "candidate_best_avg_trips = trips_by_avg_speed.head(50).reset_index()\n",
    "best_top_trips = trips_by_top_speed.head(30).reset_index()\n",
    "\n",
    "candidate_worst_avg_trips = trips_by_avg_speed.tail(50).reset_index()\n",
    "worst_top_trips = trips_by_top_speed.tail(30).reset_index()"
   ]
  },
  {
   "cell_type": "code",
   "execution_count": 23,
   "metadata": {},
   "outputs": [
    {
     "name": "stderr",
     "output_type": "stream",
     "text": [
      "/usr/local/lib/python2.7/dist-packages/ipykernel_launcher.py:11: FutureWarning: Passing integers to fillna is deprecated, will raise a TypeError in a future version.  To retain the old behavior, pass pd.Timedelta(seconds=n) instead.\n",
      "  # This is added back by InteractiveShellApp.init_path()\n"
     ]
    }
   ],
   "source": [
    "candidate_best_avg_trips['frequency_var'] = candidate_best_avg_trips \\\n",
    "                                            .apply(lambda r: compute_ts_frequency_variance(r['trip_id']), axis=1)\n",
    "candidate_worst_avg_trips['frequency_var'] = candidate_worst_avg_trips \\\n",
    "                                            .apply(lambda r: compute_ts_frequency_variance(r['trip_id']), axis=1)"
   ]
  },
  {
   "cell_type": "code",
   "execution_count": 24,
   "metadata": {},
   "outputs": [
    {
     "data": {
      "text/html": [
       "<div>\n",
       "<style scoped>\n",
       "    .dataframe tbody tr th:only-of-type {\n",
       "        vertical-align: middle;\n",
       "    }\n",
       "\n",
       "    .dataframe tbody tr th {\n",
       "        vertical-align: top;\n",
       "    }\n",
       "\n",
       "    .dataframe thead th {\n",
       "        text-align: right;\n",
       "    }\n",
       "</style>\n",
       "<table border=\"1\" class=\"dataframe\">\n",
       "  <thead>\n",
       "    <tr style=\"text-align: right;\">\n",
       "      <th></th>\n",
       "      <th>trip_id</th>\n",
       "      <th>speed</th>\n",
       "      <th>frequency_var</th>\n",
       "    </tr>\n",
       "  </thead>\n",
       "  <tbody>\n",
       "    <tr>\n",
       "      <th>0</th>\n",
       "      <td>HBAL044-BA14B6</td>\n",
       "      <td>60.255973</td>\n",
       "      <td>00:00:17.958364</td>\n",
       "    </tr>\n",
       "    <tr>\n",
       "      <th>1</th>\n",
       "      <td>HBAL153-A2D665</td>\n",
       "      <td>58.306792</td>\n",
       "      <td>00:00:30.271812</td>\n",
       "    </tr>\n",
       "    <tr>\n",
       "      <th>2</th>\n",
       "      <td>HBAL0137-C2AEB1</td>\n",
       "      <td>51.910112</td>\n",
       "      <td>00:00:30.297968</td>\n",
       "    </tr>\n",
       "    <tr>\n",
       "      <th>3</th>\n",
       "      <td>HBAL0209-A27A9E</td>\n",
       "      <td>61.897143</td>\n",
       "      <td>00:00:33.215149</td>\n",
       "    </tr>\n",
       "    <tr>\n",
       "      <th>4</th>\n",
       "      <td>HBAL0174-A25CE6</td>\n",
       "      <td>88.115044</td>\n",
       "      <td>00:00:33.401486</td>\n",
       "    </tr>\n",
       "    <tr>\n",
       "      <th>5</th>\n",
       "      <td>HBAL0155-AAE135</td>\n",
       "      <td>97.854890</td>\n",
       "      <td>00:00:36.690382</td>\n",
       "    </tr>\n",
       "    <tr>\n",
       "      <th>6</th>\n",
       "      <td>HBAL213E-A26F79</td>\n",
       "      <td>84.365672</td>\n",
       "      <td>00:00:39.427109</td>\n",
       "    </tr>\n",
       "    <tr>\n",
       "      <th>7</th>\n",
       "      <td>HBAL0142-A07A89</td>\n",
       "      <td>89.717949</td>\n",
       "      <td>00:00:44.876017</td>\n",
       "    </tr>\n",
       "    <tr>\n",
       "      <th>8</th>\n",
       "      <td>HBAL0183-A26454</td>\n",
       "      <td>91.382353</td>\n",
       "      <td>00:00:44.972501</td>\n",
       "    </tr>\n",
       "    <tr>\n",
       "      <th>9</th>\n",
       "      <td>HBAL0225-A26BC2</td>\n",
       "      <td>62.000000</td>\n",
       "      <td>00:00:47.173739</td>\n",
       "    </tr>\n",
       "    <tr>\n",
       "      <th>10</th>\n",
       "      <td>HBAL0240-A280AE</td>\n",
       "      <td>52.614525</td>\n",
       "      <td>00:00:53.993320</td>\n",
       "    </tr>\n",
       "    <tr>\n",
       "      <th>11</th>\n",
       "      <td>HBAL0244-A2680B</td>\n",
       "      <td>72.469697</td>\n",
       "      <td>00:00:54.433160</td>\n",
       "    </tr>\n",
       "    <tr>\n",
       "      <th>12</th>\n",
       "      <td>HBAL0148-A26F79</td>\n",
       "      <td>80.564516</td>\n",
       "      <td>00:00:55.366623</td>\n",
       "    </tr>\n",
       "    <tr>\n",
       "      <th>13</th>\n",
       "      <td>HBAL058-BA14A2</td>\n",
       "      <td>57.620690</td>\n",
       "      <td>00:00:55.758827</td>\n",
       "    </tr>\n",
       "    <tr>\n",
       "      <th>14</th>\n",
       "      <td>HBAL057-BA1490</td>\n",
       "      <td>59.111111</td>\n",
       "      <td>00:00:57.822993</td>\n",
       "    </tr>\n",
       "  </tbody>\n",
       "</table>\n",
       "</div>"
      ],
      "text/plain": [
       "            trip_id      speed   frequency_var\n",
       "0    HBAL044-BA14B6  60.255973 00:00:17.958364\n",
       "1    HBAL153-A2D665  58.306792 00:00:30.271812\n",
       "2   HBAL0137-C2AEB1  51.910112 00:00:30.297968\n",
       "3   HBAL0209-A27A9E  61.897143 00:00:33.215149\n",
       "4   HBAL0174-A25CE6  88.115044 00:00:33.401486\n",
       "5   HBAL0155-AAE135  97.854890 00:00:36.690382\n",
       "6   HBAL213E-A26F79  84.365672 00:00:39.427109\n",
       "7   HBAL0142-A07A89  89.717949 00:00:44.876017\n",
       "8   HBAL0183-A26454  91.382353 00:00:44.972501\n",
       "9   HBAL0225-A26BC2  62.000000 00:00:47.173739\n",
       "10  HBAL0240-A280AE  52.614525 00:00:53.993320\n",
       "11  HBAL0244-A2680B  72.469697 00:00:54.433160\n",
       "12  HBAL0148-A26F79  80.564516 00:00:55.366623\n",
       "13   HBAL058-BA14A2  57.620690 00:00:55.758827\n",
       "14   HBAL057-BA1490  59.111111 00:00:57.822993"
      ]
     },
     "execution_count": 24,
     "metadata": {},
     "output_type": "execute_result"
    }
   ],
   "source": [
    "candidate_best_avg_trips = candidate_best_avg_trips.sort_values(by='frequency_var').reset_index(drop=True)\n",
    "candidate_best_avg_trips.head(15)"
   ]
  },
  {
   "cell_type": "code",
   "execution_count": 26,
   "metadata": {},
   "outputs": [
    {
     "data": {
      "image/png": "[encoded data removed]",
      "text/plain": [
       "<Figure size 1152x432 with 1 Axes>"
      ]
     },
     "metadata": {
      "needs_background": "light"
     },
     "output_type": "display_data"
    }
   ],
   "source": [
    "# The first 10 flights look healthy. \n",
    "# Taking a look in kepler we can see the ones going up and then going down which shows a complete flight\n",
    "# Candidates: ['HBAL044-BA14B6', 'HBAL153-A2D665', 'HBAL0137-C2AEB1', 'HBAL0209-A27A9E', 'HBAL0174-A25CE6',\n",
    "# 'HBAL0155-AAE135', 'HBAL213E-A26F79', 'HBAL0142-A07A89', 'HBAL0183-A26454']\n",
    "\n",
    "best_avg_trips = candidate_best_avg_trips.loc[candidate_best_avg_trips \\\n",
    "                                        .trip_id \\\n",
    "                                        .isin(['HBAL044-BA14B6', 'HBAL0137-C2AEB1', 'HBAL0209-A27A9E', \\\n",
    "                                               'HBAL0174-A25CE6', 'HBAL0155-AAE135', 'HBAL213E-A26F79', 'HBAL0142-A07A89'])]\n",
    "# Plot velocities for loons\n",
    "plt.figure(figsize=(16,6))\n",
    "plt.title(\"Top trips by average speed\")\n",
    "ax = sns.barplot(x=best_avg_trips.trip_id, y=best_avg_trips['speed'])\n",
    "\n",
    "# Add label for vertical axis\n",
    "plt.ylabel(\"Velocity (in km/h)\")\n",
    "\n",
    "b = ax.set_xticklabels(ax.get_xticklabels(), rotation=90)"
   ]
  },
  {
   "cell_type": "code",
   "execution_count": 31,
   "metadata": {},
   "outputs": [
    {
     "data": {
      "text/html": [
       "<div>\n",
       "<style scoped>\n",
       "    .dataframe tbody tr th:only-of-type {\n",
       "        vertical-align: middle;\n",
       "    }\n",
       "\n",
       "    .dataframe tbody tr th {\n",
       "        vertical-align: top;\n",
       "    }\n",
       "\n",
       "    .dataframe thead th {\n",
       "        text-align: right;\n",
       "    }\n",
       "</style>\n",
       "<table border=\"1\" class=\"dataframe\">\n",
       "  <thead>\n",
       "    <tr style=\"text-align: right;\">\n",
       "      <th></th>\n",
       "      <th>trip_id</th>\n",
       "      <th>speed</th>\n",
       "      <th>frequency_var</th>\n",
       "    </tr>\n",
       "  </thead>\n",
       "  <tbody>\n",
       "    <tr>\n",
       "      <th>0</th>\n",
       "      <td>HBAL0196-A07A89</td>\n",
       "      <td>1.000000</td>\n",
       "      <td>00:00:00</td>\n",
       "    </tr>\n",
       "    <tr>\n",
       "      <th>1</th>\n",
       "      <td>HBAL021-BA1472</td>\n",
       "      <td>5.000000</td>\n",
       "      <td>00:00:00</td>\n",
       "    </tr>\n",
       "    <tr>\n",
       "      <th>2</th>\n",
       "      <td>HBAL81-BA1211</td>\n",
       "      <td>8.271405</td>\n",
       "      <td>00:00:16.375524</td>\n",
       "    </tr>\n",
       "    <tr>\n",
       "      <th>3</th>\n",
       "      <td>HBAL453-BA1142</td>\n",
       "      <td>7.793655</td>\n",
       "      <td>00:00:16.772716</td>\n",
       "    </tr>\n",
       "    <tr>\n",
       "      <th>4</th>\n",
       "      <td>HBAL467-BA1174</td>\n",
       "      <td>8.512938</td>\n",
       "      <td>00:00:17.015778</td>\n",
       "    </tr>\n",
       "    <tr>\n",
       "      <th>5</th>\n",
       "      <td>HBAL500-A33E06</td>\n",
       "      <td>8.508446</td>\n",
       "      <td>00:00:19.167618</td>\n",
       "    </tr>\n",
       "    <tr>\n",
       "      <th>6</th>\n",
       "      <td>HBAL174-BA1419</td>\n",
       "      <td>8.378940</td>\n",
       "      <td>00:00:21.512462</td>\n",
       "    </tr>\n",
       "    <tr>\n",
       "      <th>7</th>\n",
       "      <td>HBAL083-BA139D</td>\n",
       "      <td>6.620853</td>\n",
       "      <td>00:00:22.259521</td>\n",
       "    </tr>\n",
       "    <tr>\n",
       "      <th>8</th>\n",
       "      <td>HBAL5-BA1151</td>\n",
       "      <td>8.230592</td>\n",
       "      <td>00:00:22.328535</td>\n",
       "    </tr>\n",
       "    <tr>\n",
       "      <th>9</th>\n",
       "      <td>HBAL670-A33E06</td>\n",
       "      <td>6.842857</td>\n",
       "      <td>00:00:23.123190</td>\n",
       "    </tr>\n",
       "  </tbody>\n",
       "</table>\n",
       "</div>"
      ],
      "text/plain": [
       "           trip_id     speed   frequency_var\n",
       "0  HBAL0196-A07A89  1.000000        00:00:00\n",
       "1   HBAL021-BA1472  5.000000        00:00:00\n",
       "2    HBAL81-BA1211  8.271405 00:00:16.375524\n",
       "3   HBAL453-BA1142  7.793655 00:00:16.772716\n",
       "4   HBAL467-BA1174  8.512938 00:00:17.015778\n",
       "5   HBAL500-A33E06  8.508446 00:00:19.167618\n",
       "6   HBAL174-BA1419  8.378940 00:00:21.512462\n",
       "7   HBAL083-BA139D  6.620853 00:00:22.259521\n",
       "8     HBAL5-BA1151  8.230592 00:00:22.328535\n",
       "9   HBAL670-A33E06  6.842857 00:00:23.123190"
      ]
     },
     "execution_count": 31,
     "metadata": {},
     "output_type": "execute_result"
    }
   ],
   "source": [
    "candidate_worst_avg_trips = candidate_worst_avg_trips.sort_values(by='frequency_var').reset_index(drop=True)\n",
    "candidate_worst_avg_trips.head(10)"
   ]
  },
  {
   "cell_type": "code",
   "execution_count": 33,
   "metadata": {},
   "outputs": [
    {
     "ename": "NameError",
     "evalue": "name 'worst_avg_flights' is not defined",
     "output_type": "error",
     "traceback": [
      "\u001b[0;31m---------------------------------------------------------------------------\u001b[0m",
      "\u001b[0;31mNameError\u001b[0m                                 Traceback (most recent call last)",
      "\u001b[0;32m<ipython-input-33-158896b26f8f>\u001b[0m in \u001b[0;36m<module>\u001b[0;34m()\u001b[0m\n\u001b[1;32m      8\u001b[0m \u001b[0mplt\u001b[0m\u001b[0;34m.\u001b[0m\u001b[0mfigure\u001b[0m\u001b[0;34m(\u001b[0m\u001b[0mfigsize\u001b[0m\u001b[0;34m=\u001b[0m\u001b[0;34m(\u001b[0m\u001b[0;36m16\u001b[0m\u001b[0;34m,\u001b[0m\u001b[0;36m6\u001b[0m\u001b[0;34m)\u001b[0m\u001b[0;34m)\u001b[0m\u001b[0;34m\u001b[0m\u001b[0m\n\u001b[1;32m      9\u001b[0m \u001b[0mplt\u001b[0m\u001b[0;34m.\u001b[0m\u001b[0mtitle\u001b[0m\u001b[0;34m(\u001b[0m\u001b[0;34m\"Last trips by average speed\"\u001b[0m\u001b[0;34m)\u001b[0m\u001b[0;34m\u001b[0m\u001b[0m\n\u001b[0;32m---> 10\u001b[0;31m \u001b[0max\u001b[0m \u001b[0;34m=\u001b[0m \u001b[0msns\u001b[0m\u001b[0;34m.\u001b[0m\u001b[0mbarplot\u001b[0m\u001b[0;34m(\u001b[0m\u001b[0mx\u001b[0m\u001b[0;34m=\u001b[0m\u001b[0mworst_avg_flights\u001b[0m\u001b[0;34m.\u001b[0m\u001b[0mtrip_id\u001b[0m\u001b[0;34m,\u001b[0m \u001b[0my\u001b[0m\u001b[0;34m=\u001b[0m\u001b[0mworst_avg_flights\u001b[0m\u001b[0;34m[\u001b[0m\u001b[0;34m'speed'\u001b[0m\u001b[0;34m]\u001b[0m\u001b[0;34m)\u001b[0m\u001b[0;34m\u001b[0m\u001b[0m\n\u001b[0m\u001b[1;32m     11\u001b[0m \u001b[0;34m\u001b[0m\u001b[0m\n\u001b[1;32m     12\u001b[0m \u001b[0;31m# Add label for vertical axis\u001b[0m\u001b[0;34m\u001b[0m\u001b[0;34m\u001b[0m\u001b[0m\n",
      "\u001b[0;31mNameError\u001b[0m: name 'worst_avg_flights' is not defined"
     ]
    },
    {
     "data": {
      "image/png": "[encoded data removed]",
      "text/plain": [
       "<Figure size 1152x432 with 1 Axes>"
      ]
     },
     "metadata": {
      "needs_background": "light"
     },
     "output_type": "display_data"
    }
   ],
   "source": [
    "# The first 10 flights look healthy. \n",
    "# Taking a look in kepler we can see the ones going up and then going down which shows a complete flight\n",
    "# Candidates: ['HBAL0196-A07A89', 'HBAL021-BA1472', 'HBAL81-BA1211', 'HBAL453-BA1142', 'HBAL467-BA1174', 'HBAL500-A33E06',\n",
    "# 'HBAL174-BA1419', 'HBAL083-BA139D', 'HBAL5-BA1151', 'HBAL670-A33E06']\n",
    "\n",
    "worst_avg_trips = candidate_worst_avg_trips.loc[candidate_worst_avg_trips.trip_id \\\n",
    "                                               .isin(['HBAL0196-A07A89', 'HBAL81-BA1211', 'HBAL453-BA1142', \\\n",
    "                                                      'HBAL467-BA1174', 'HBAL500-A33E06', 'HBAL174-BA1419', \\\n",
    "                                                      'HBAL670-A33E06'])]\n",
    "# Plot velocities for loons\n",
    "plt.figure(figsize=(16,6))\n",
    "plt.title(\"Last trips by average speed\")\n",
    "ax = sns.barplot(x=worst_avg_flights.trip_id, y=worst_avg_flights['speed'])\n",
    "\n",
    "# Add label for vertical axis\n",
    "plt.ylabel(\"Velocity (in km/h)\")\n",
    "\n",
    "b = ax.set_xticklabels(ax.get_xticklabels(), rotation=90)"
   ]
  },
  {
   "cell_type": "code",
   "execution_count": null,
   "metadata": {},
   "outputs": [],
   "source": []
  },
  {
   "cell_type": "code",
   "execution_count": null,
   "metadata": {},
   "outputs": [],
   "source": []
  },
  {
   "cell_type": "code",
   "execution_count": null,
   "metadata": {},
   "outputs": [],
   "source": [
    "best_top_flights['frequency_var'] = best_top_flights \\\n",
    "                                            .apply(lambda r: compute_ts_frequency_variance(r['flight_id']), axis=1)"
   ]
  },
  {
   "cell_type": "code",
   "execution_count": null,
   "metadata": {},
   "outputs": [],
   "source": [
    "worst_top_flights['frequency_var'] = worst_top_flights \\\n",
    "                                            .apply(lambda r: compute_ts_frequency_variance(r['flight_id']), axis=1)"
   ]
  }
 ],
 "metadata": {
  "kernelspec": {
   "display_name": "Python 3",
   "language": "python",
   "name": "python3"
  },
  "language_info": {
   "codemirror_mode": {
    "name": "ipython",
    "version": 3
   },
   "file_extension": ".py",
   "mimetype": "text/x-python",
   "name": "python",
   "nbconvert_exporter": "python",
   "pygments_lexer": "ipython3",
   "version": "3.7.1"
  }
 },
 "nbformat": 4,
 "nbformat_minor": 2
}
