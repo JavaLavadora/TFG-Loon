{
 "cells": [
  {
   "cell_type": "code",
   "execution_count": 5,
   "metadata": {},
   "outputs": [],
   "source": [
    "import pandas as pd\n",
    "import numpy as np\n",
    "import matplotlib.pyplot as plt\n",
    "import seaborn as sns"
   ]
  },
  {
   "cell_type": "code",
   "execution_count": 6,
   "metadata": {},
   "outputs": [],
   "source": [
    "fr = pd.DataFrame()\n",
    "\n",
    "flights_to_add = ['N211LB', 'N226LB', 'N235LB', 'N238LB', 'N252LB', 'N271LB', 'N329LB', 'N789LB']\n",
    "\n",
    "min_pts_list = ['4', '128', '256', '512', '1024', '1416']\n",
    "\n"
   ]
  },
  {
   "cell_type": "code",
   "execution_count": 3,
   "metadata": {},
   "outputs": [],
   "source": [
    "for loon in flights_to_add:\n",
    "    \n",
    "    for mp in min_pts_list:\n",
    "\n",
    "        aux = pd.read_csv('../../../../og_data/DBSCAN/' + 'eps0.1/' +  loon \\\n",
    "                          + '/CL-' + loon \n",
    "                          + '-mp_'+ str(mp) +  '.csv', \\\n",
    "                          parse_dates=['ts'], low_memory=False)\n",
    "\n",
    "        aux['eps'] = 0.1\n",
    "        aux['min_pts'] = mp\n",
    "        aux['num_records'] = aux.shape[0]\n",
    "        \n",
    "        \n",
    "        fr = fr.append(aux)"
   ]
  },
  {
   "cell_type": "code",
   "execution_count": 7,
   "metadata": {},
   "outputs": [],
   "source": [
    "for loon in flights_to_add:\n",
    "    \n",
    "    for mp in min_pts_list:\n",
    "\n",
    "        aux = pd.read_csv('../../../../og_data/DBSCAN/' + 'eps2.5/' +  loon \\\n",
    "                          + '/CL-' + loon \n",
    "                          + '-mp_'+ str(mp) +  '.csv', \\\n",
    "                          parse_dates=['ts'], low_memory=False)\n",
    "\n",
    "        aux['eps'] = 0.00039\n",
    "        aux['min_pts'] = mp\n",
    "        aux['num_records'] = aux.shape[0]\n",
    "        \n",
    "        fr = fr.append(aux)"
   ]
  },
  {
   "cell_type": "code",
   "execution_count": null,
   "metadata": {},
   "outputs": [],
   "source": [
    "for loon in flights_to_add:\n",
    "    \n",
    "    for mp in min_pts_list:\n",
    "\n",
    "        aux = pd.read_csv('../../../../og_data/DBSCAN/' + 'eps6/' +  loon \\\n",
    "                          + '/CL-' + loon \n",
    "                          + '-mp_'+ str(mp) +  '.csv', \\\n",
    "                          parse_dates=['ts'], low_memory=False)\n",
    "\n",
    "        aux['eps'] = 0.00094\n",
    "        aux['min_pts'] = mp\n",
    "        aux['num_records'] = aux.shape[0]\n",
    "        \n",
    "        fr = fr.append(aux)"
   ]
  },
  {
   "cell_type": "code",
   "execution_count": null,
   "metadata": {},
   "outputs": [],
   "source": [
    "bl = fr"
   ]
  },
  {
   "cell_type": "code",
   "execution_count": null,
   "metadata": {},
   "outputs": [],
   "source": [
    "bl"
   ]
  },
  {
   "cell_type": "code",
   "execution_count": null,
   "metadata": {},
   "outputs": [],
   "source": [
    "cluster_stats_df = bl.groupby(['eps', 'min_pts', 'registration_id', 'cluster']).count().reset_index()"
   ]
  },
  {
   "cell_type": "code",
   "execution_count": null,
   "metadata": {},
   "outputs": [],
   "source": [
    "cluster_stats_df"
   ]
  },
  {
   "cell_type": "code",
   "execution_count": null,
   "metadata": {},
   "outputs": [],
   "source": [
    "# Let's join back the number of records of each flight\n",
    "cluster_stats_df = pd.merge(cluster_stats_df, bl[['eps', 'min_pts', 'registration_id', 'cluster', 'num_records']], \\\n",
    "                 on=['eps', 'min_pts', 'registration_id', 'cluster'])\n",
    "\n",
    "cluster_stats_df['num_records'] = cluster_stats_df['num_records_y']\n",
    "\n",
    "cluster_stats_df = cluster_stats_df.drop('num_records_y', axis=1)\n",
    "cluster_stats_df = cluster_stats_df.drop('num_records_x', axis=1)\n",
    "\n",
    "cluster_stats_df['stationary'] = cluster_stats_df['cluster'].apply(lambda x: True if x != -1 else False)\n",
    "\n",
    "\n",
    "cluster_stats_df\n"
   ]
  },
  {
   "cell_type": "code",
   "execution_count": null,
   "metadata": {},
   "outputs": [],
   "source": [
    "for loon in flights_to_add:\n",
    "    \n",
    "    loon_cluster_stats = cluster_stats_df.loc[cluster_stats_df.registration_id == loon]\n",
    "\n",
    "    loon_cluster_stats['share_of_data'] = loon_cluster_stats['ts']/loon_cluster_stats['num_records']\n",
    "\n",
    "    loon_cluster_stats['min_pts'] = loon_cluster_stats['min_pts'].astype(float)\n",
    "    loon_cluster_stats = loon_cluster_stats.sort_values('min_pts')\n",
    "    loon_cluster_stats['min_pts'] = loon_cluster_stats['min_pts'].astype(str)\n",
    "    \n",
    "    plt.figure(loon, figsize=(30,6))\n",
    "\n",
    "    ax = sns.lineplot(x=loon_cluster_stats['min_pts'], y=\"share_of_data\", hue='stationary', sort=False,\\\n",
    "                     data=loon_cluster_stats)\n",
    "\n",
    "    #ax.set(ylim=(0, 50))\n",
    "    dummy = ax.set_ylabel('Share of Data')\n",
    "    dummy = ax.set_xlabel('MinPts')\n",
    "    dummy = ax.set_title(loon + ': DBSCAN cluster stats')\n",
    "    dummy = ax.tick_params(labelsize=10)\n",
    "    "
   ]
  },
  {
   "cell_type": "code",
   "execution_count": null,
   "metadata": {
    "scrolled": true
   },
   "outputs": [],
   "source": [
    "eps_stats_df = bl.groupby(['eps', 'min_pts', 'cluster']).count().reset_index()\n",
    "eps_stats_df = eps_stats_df[['eps', 'min_pts', 'cluster']]\n",
    "\n",
    "eps_stats_df = eps_stats_df.groupby(['eps', 'min_pts']).count().reset_index()\n",
    "\n",
    "eps_stats_df"
   ]
  },
  {
   "cell_type": "code",
   "execution_count": null,
   "metadata": {},
   "outputs": [],
   "source": [
    "\n",
    "eps_stats_df['cluster'] = eps_stats_df['cluster'] - 1\n",
    "\n",
    "plt.figure(loon, figsize=(30,6))\n",
    "\n",
    "eps_stats_df['min_pts'] = eps_stats_df['min_pts'].astype(float)\n",
    "eps_stats_df = eps_stats_df.sort_values('min_pts')\n",
    "eps_stats_df['min_pts'] = eps_stats_df['min_pts'].astype(str)\n",
    "\n",
    "#eps_stats_df['eps'] = eps_stats_df['eps'].astype(str)\n",
    "\n",
    "ax = sns.lineplot(x=eps_stats_df['min_pts'], y=\"cluster\", hue=eps_stats_df['eps'].values, sort=False,\\\n",
    "                     data=eps_stats_df, palette = sns.color_palette(\"hls\", 3))\n",
    "\n",
    "#ax.set(ylim=(0, 50))\n",
    "dummy = ax.set_ylabel('Number of clusters')\n",
    "dummy = ax.set_xlabel('MinPts')\n",
    "dummy = ax.set_title('Clusters generated for all loons')\n",
    "dummy = ax.tick_params(labelsize=10)"
   ]
  },
  {
   "cell_type": "code",
   "execution_count": null,
   "metadata": {},
   "outputs": [],
   "source": []
  }
 ],
 "metadata": {
  "kernelspec": {
   "display_name": "Python 3",
   "language": "python",
   "name": "python3"
  },
  "language_info": {
   "codemirror_mode": {
    "name": "ipython",
    "version": 3
   },
   "file_extension": ".py",
   "mimetype": "text/x-python",
   "name": "python",
   "nbconvert_exporter": "python",
   "pygments_lexer": "ipython3",
   "version": "3.7.1"
  }
 },
 "nbformat": 4,
 "nbformat_minor": 2
}
