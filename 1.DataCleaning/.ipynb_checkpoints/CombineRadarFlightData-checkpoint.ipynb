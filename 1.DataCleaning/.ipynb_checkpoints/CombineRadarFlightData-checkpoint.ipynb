{
 "cells": [
  {
   "cell_type": "code",
   "execution_count": 1,
   "metadata": {},
   "outputs": [],
   "source": [
    "import pandas as pd\n",
    "import numpy as np\n",
    "import os\n",
    "import glob"
   ]
  },
  {
   "cell_type": "code",
   "execution_count": 2,
   "metadata": {},
   "outputs": [],
   "source": [
    "folder = 'HBAL136-N238LB'\n",
    "\n",
    "os.chdir(\"/Users/toni/Documents/TFG/og_data/flight_radar_data/\" + folder)\n",
    "\n",
    "extension = 'csv'\n",
    "all_filenames = [i for i in glob.glob('*.{}'.format(extension))]\n",
    "\n",
    "#combine all files in the list\n",
    "combined_csv = pd.concat([pd.read_csv(f) for f in all_filenames ])\n",
    "\n"
   ]
  },
  {
   "cell_type": "code",
   "execution_count": 3,
   "metadata": {},
   "outputs": [],
   "source": [
    "# The combined data is our baseline to work with\n",
    "bl = combined_csv"
   ]
  },
  {
   "cell_type": "code",
   "execution_count": 4,
   "metadata": {},
   "outputs": [],
   "source": [
    "# Match column names\n",
    "bl = bl.rename({'UTC': 'ts', 'Callsign': 'aircraft_id', 'Altitude': 'alt', 'Speed': 'speed'}, axis='columns')"
   ]
  },
  {
   "cell_type": "code",
   "execution_count": 5,
   "metadata": {},
   "outputs": [],
   "source": [
    "# Format columns\n",
    "bl['ts'] = pd.to_datetime(bl['ts'], utc=True)\n",
    "\n",
    "bl['registration_id'] = folder.split('-')[1]"
   ]
  },
  {
   "cell_type": "code",
   "execution_count": 6,
   "metadata": {},
   "outputs": [],
   "source": [
    "# Checking on flightRadar map the position format is (lat, lon)\n",
    "def split_position(pos):\n",
    "    position = pos.split(',')\n",
    "    lat = position[0]\n",
    "    lon = position[1]\n",
    "    \n",
    "    return pd.Series((lat, lon))\n",
    "bl[['lat', 'lon']] = bl['Position'].apply(lambda r: split_position(r))"
   ]
  },
  {
   "cell_type": "code",
   "execution_count": 7,
   "metadata": {},
   "outputs": [],
   "source": [
    "# Get rid of old columns\n",
    "bl = bl.drop('Timestamp', axis='columns')\n",
    "bl = bl.drop('Position', axis='columns')"
   ]
  },
  {
   "cell_type": "code",
   "execution_count": 8,
   "metadata": {},
   "outputs": [],
   "source": [
    "#export to csv\n",
    "bl.to_csv( folder + \".csv\", index=False, encoding='utf-8-sig')"
   ]
  },
  {
   "cell_type": "code",
   "execution_count": null,
   "metadata": {},
   "outputs": [],
   "source": []
  },
  {
   "cell_type": "code",
   "execution_count": null,
   "metadata": {},
   "outputs": [],
   "source": []
  }
 ],
 "metadata": {
  "kernelspec": {
   "display_name": "Python 3",
   "language": "python",
   "name": "python3"
  },
  "language_info": {
   "codemirror_mode": {
    "name": "ipython",
    "version": 3
   },
   "file_extension": ".py",
   "mimetype": "text/x-python",
   "name": "python",
   "nbconvert_exporter": "python",
   "pygments_lexer": "ipython3",
   "version": "3.7.1"
  }
 },
 "nbformat": 4,
 "nbformat_minor": 2
}
