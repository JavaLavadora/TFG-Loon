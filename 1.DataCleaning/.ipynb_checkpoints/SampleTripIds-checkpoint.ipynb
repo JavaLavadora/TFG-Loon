{
 "cells": [
  {
   "cell_type": "code",
   "execution_count": 1,
   "metadata": {},
   "outputs": [],
   "source": [
    "import pandas as pd\n",
    "import numpy as np"
   ]
  },
  {
   "cell_type": "code",
   "execution_count": null,
   "metadata": {},
   "outputs": [],
   "source": [
    "# Since I realized mid study that it is possible to have many aircraft_ids associated with the same flight_id,\n",
    "# I must use a composite key to identify the trips: trip_id = flight_id + aircraft_id"
   ]
  },
  {
   "cell_type": "code",
   "execution_count": 2,
   "metadata": {},
   "outputs": [
    {
     "name": "stderr",
     "output_type": "stream",
     "text": [
      "/home/toni/.local/lib/python2.7/site-packages/numpy/lib/arraysetops.py:569: FutureWarning: elementwise comparison failed; returning scalar instead, but in the future will perform elementwise comparison\n",
      "  mask |= (ar1 == a)\n"
     ]
    }
   ],
   "source": [
    "# We need the data with geopandas geometry added\n",
    "raw_df = pd.read_csv('../../../../og_data/extract_clean.csv', index_col='Unnamed: 0',\n",
    "                       low_memory=False)"
   ]
  },
  {
   "cell_type": "code",
   "execution_count": 3,
   "metadata": {},
   "outputs": [],
   "source": [
    "bl = raw_df"
   ]
  },
  {
   "cell_type": "code",
   "execution_count": 5,
   "metadata": {},
   "outputs": [],
   "source": [
    "bl['trip_id'] = bl['flight_id'].str.cat(bl['aircraft_id'], sep='-')"
   ]
  },
  {
   "cell_type": "code",
   "execution_count": 6,
   "metadata": {},
   "outputs": [
    {
     "data": {
      "text/html": [
       "<div>\n",
       "<style scoped>\n",
       "    .dataframe tbody tr th:only-of-type {\n",
       "        vertical-align: middle;\n",
       "    }\n",
       "\n",
       "    .dataframe tbody tr th {\n",
       "        vertical-align: top;\n",
       "    }\n",
       "\n",
       "    .dataframe thead th {\n",
       "        text-align: right;\n",
       "    }\n",
       "</style>\n",
       "<table border=\"1\" class=\"dataframe\">\n",
       "  <thead>\n",
       "    <tr style=\"text-align: right;\">\n",
       "      <th></th>\n",
       "      <th>craw_ts</th>\n",
       "      <th>flight_id</th>\n",
       "      <th>aircraft_id</th>\n",
       "      <th>lat</th>\n",
       "      <th>lon</th>\n",
       "      <th>azi</th>\n",
       "      <th>alt</th>\n",
       "      <th>speed</th>\n",
       "      <th>ts</th>\n",
       "      <th>trip_id</th>\n",
       "    </tr>\n",
       "  </thead>\n",
       "  <tbody>\n",
       "    <tr>\n",
       "      <th>0</th>\n",
       "      <td>1.468556e+12</td>\n",
       "      <td>HBAL417</td>\n",
       "      <td>BA1102</td>\n",
       "      <td>44.7567</td>\n",
       "      <td>-113.6905</td>\n",
       "      <td>194</td>\n",
       "      <td>62300.0</td>\n",
       "      <td>4</td>\n",
       "      <td>2016-07-15 04:07:57</td>\n",
       "      <td>HBAL417-BA1102</td>\n",
       "    </tr>\n",
       "    <tr>\n",
       "      <th>1</th>\n",
       "      <td>1.468556e+12</td>\n",
       "      <td>HBAL406</td>\n",
       "      <td>BA1123</td>\n",
       "      <td>43.3738</td>\n",
       "      <td>-113.7937</td>\n",
       "      <td>258</td>\n",
       "      <td>60500.0</td>\n",
       "      <td>5</td>\n",
       "      <td>2016-07-15 04:07:59</td>\n",
       "      <td>HBAL406-BA1123</td>\n",
       "    </tr>\n",
       "    <tr>\n",
       "      <th>2</th>\n",
       "      <td>1.468556e+12</td>\n",
       "      <td>HBAL427</td>\n",
       "      <td>BA111F</td>\n",
       "      <td>18.2783</td>\n",
       "      <td>-65.7778</td>\n",
       "      <td>258</td>\n",
       "      <td>57600.0</td>\n",
       "      <td>29</td>\n",
       "      <td>2016-07-15 04:07:59</td>\n",
       "      <td>HBAL427-BA111F</td>\n",
       "    </tr>\n",
       "    <tr>\n",
       "      <th>3</th>\n",
       "      <td>1.468556e+12</td>\n",
       "      <td>HBAL287</td>\n",
       "      <td>BA1008</td>\n",
       "      <td>-7.2694</td>\n",
       "      <td>-79.8547</td>\n",
       "      <td>356</td>\n",
       "      <td>59900.0</td>\n",
       "      <td>19</td>\n",
       "      <td>2016-07-15 04:08:00</td>\n",
       "      <td>HBAL287-BA1008</td>\n",
       "    </tr>\n",
       "    <tr>\n",
       "      <th>4</th>\n",
       "      <td>1.468556e+12</td>\n",
       "      <td>HBAL305</td>\n",
       "      <td>BA1007</td>\n",
       "      <td>-7.3076</td>\n",
       "      <td>-78.5334</td>\n",
       "      <td>352</td>\n",
       "      <td>60200.0</td>\n",
       "      <td>16</td>\n",
       "      <td>2016-07-15 04:08:00</td>\n",
       "      <td>HBAL305-BA1007</td>\n",
       "    </tr>\n",
       "  </tbody>\n",
       "</table>\n",
       "</div>"
      ],
      "text/plain": [
       "        craw_ts flight_id aircraft_id      lat       lon  azi      alt  speed  \\\n",
       "0  1.468556e+12   HBAL417      BA1102  44.7567 -113.6905  194  62300.0      4   \n",
       "1  1.468556e+12   HBAL406      BA1123  43.3738 -113.7937  258  60500.0      5   \n",
       "2  1.468556e+12   HBAL427      BA111F  18.2783  -65.7778  258  57600.0     29   \n",
       "3  1.468556e+12   HBAL287      BA1008  -7.2694  -79.8547  356  59900.0     19   \n",
       "4  1.468556e+12   HBAL305      BA1007  -7.3076  -78.5334  352  60200.0     16   \n",
       "\n",
       "                    ts         trip_id  \n",
       "0  2016-07-15 04:07:57  HBAL417-BA1102  \n",
       "1  2016-07-15 04:07:59  HBAL406-BA1123  \n",
       "2  2016-07-15 04:07:59  HBAL427-BA111F  \n",
       "3  2016-07-15 04:08:00  HBAL287-BA1008  \n",
       "4  2016-07-15 04:08:00  HBAL305-BA1007  "
      ]
     },
     "execution_count": 6,
     "metadata": {},
     "output_type": "execute_result"
    }
   ],
   "source": [
    "bl.head()"
   ]
  },
  {
   "cell_type": "code",
   "execution_count": 7,
   "metadata": {},
   "outputs": [],
   "source": [
    "# Overwrite the modified extract\n",
    "bl.to_csv('../../../../og_data/extract_clean.csv')"
   ]
  },
  {
   "cell_type": "code",
   "execution_count": 8,
   "metadata": {},
   "outputs": [],
   "source": [
    "# We need the data with geopandas geometry added\n",
    "raw_df = pd.read_csv('../../../../og_data/extract_clean_with_country.csv', index_col='Unnamed: 0', parse_dates=['ts'],\n",
    "                       low_memory=False)"
   ]
  },
  {
   "cell_type": "code",
   "execution_count": 9,
   "metadata": {},
   "outputs": [],
   "source": [
    "bl = raw_df"
   ]
  },
  {
   "cell_type": "code",
   "execution_count": 10,
   "metadata": {},
   "outputs": [],
   "source": [
    "bl['trip_id'] = bl['flight_id'].str.cat(bl['aircraft_id'], sep='-')"
   ]
  },
  {
   "cell_type": "code",
   "execution_count": 11,
   "metadata": {},
   "outputs": [
    {
     "data": {
      "text/html": [
       "<div>\n",
       "<style scoped>\n",
       "    .dataframe tbody tr th:only-of-type {\n",
       "        vertical-align: middle;\n",
       "    }\n",
       "\n",
       "    .dataframe tbody tr th {\n",
       "        vertical-align: top;\n",
       "    }\n",
       "\n",
       "    .dataframe thead th {\n",
       "        text-align: right;\n",
       "    }\n",
       "</style>\n",
       "<table border=\"1\" class=\"dataframe\">\n",
       "  <thead>\n",
       "    <tr style=\"text-align: right;\">\n",
       "      <th></th>\n",
       "      <th>craw_ts</th>\n",
       "      <th>flight_id</th>\n",
       "      <th>aircraft_id</th>\n",
       "      <th>lat</th>\n",
       "      <th>lon</th>\n",
       "      <th>azi</th>\n",
       "      <th>alt</th>\n",
       "      <th>speed</th>\n",
       "      <th>ts</th>\n",
       "      <th>country</th>\n",
       "      <th>country_code</th>\n",
       "      <th>trip_id</th>\n",
       "    </tr>\n",
       "  </thead>\n",
       "  <tbody>\n",
       "    <tr>\n",
       "      <th>0</th>\n",
       "      <td>1.468556e+12</td>\n",
       "      <td>HBAL417</td>\n",
       "      <td>BA1102</td>\n",
       "      <td>44.7567</td>\n",
       "      <td>-113.6905</td>\n",
       "      <td>194</td>\n",
       "      <td>62300.0</td>\n",
       "      <td>4</td>\n",
       "      <td>2016-07-15 04:07:57</td>\n",
       "      <td>United States of America</td>\n",
       "      <td>USA</td>\n",
       "      <td>HBAL417-BA1102</td>\n",
       "    </tr>\n",
       "    <tr>\n",
       "      <th>1</th>\n",
       "      <td>1.468556e+12</td>\n",
       "      <td>HBAL406</td>\n",
       "      <td>BA1123</td>\n",
       "      <td>43.3738</td>\n",
       "      <td>-113.7937</td>\n",
       "      <td>258</td>\n",
       "      <td>60500.0</td>\n",
       "      <td>5</td>\n",
       "      <td>2016-07-15 04:07:59</td>\n",
       "      <td>United States of America</td>\n",
       "      <td>USA</td>\n",
       "      <td>HBAL406-BA1123</td>\n",
       "    </tr>\n",
       "    <tr>\n",
       "      <th>2</th>\n",
       "      <td>1.468556e+12</td>\n",
       "      <td>HBAL427</td>\n",
       "      <td>BA111F</td>\n",
       "      <td>18.2783</td>\n",
       "      <td>-65.7778</td>\n",
       "      <td>258</td>\n",
       "      <td>57600.0</td>\n",
       "      <td>29</td>\n",
       "      <td>2016-07-15 04:07:59</td>\n",
       "      <td>Puerto Rico</td>\n",
       "      <td>PRI</td>\n",
       "      <td>HBAL427-BA111F</td>\n",
       "    </tr>\n",
       "    <tr>\n",
       "      <th>3</th>\n",
       "      <td>1.468556e+12</td>\n",
       "      <td>HBAL287</td>\n",
       "      <td>BA1008</td>\n",
       "      <td>-7.2694</td>\n",
       "      <td>-79.8547</td>\n",
       "      <td>356</td>\n",
       "      <td>59900.0</td>\n",
       "      <td>19</td>\n",
       "      <td>2016-07-15 04:08:00</td>\n",
       "      <td>NaN</td>\n",
       "      <td>NaN</td>\n",
       "      <td>HBAL287-BA1008</td>\n",
       "    </tr>\n",
       "    <tr>\n",
       "      <th>4</th>\n",
       "      <td>1.468556e+12</td>\n",
       "      <td>HBAL305</td>\n",
       "      <td>BA1007</td>\n",
       "      <td>-7.3076</td>\n",
       "      <td>-78.5334</td>\n",
       "      <td>352</td>\n",
       "      <td>60200.0</td>\n",
       "      <td>16</td>\n",
       "      <td>2016-07-15 04:08:00</td>\n",
       "      <td>Peru</td>\n",
       "      <td>PER</td>\n",
       "      <td>HBAL305-BA1007</td>\n",
       "    </tr>\n",
       "  </tbody>\n",
       "</table>\n",
       "</div>"
      ],
      "text/plain": [
       "        craw_ts flight_id aircraft_id      lat       lon  azi      alt  speed  \\\n",
       "0  1.468556e+12   HBAL417      BA1102  44.7567 -113.6905  194  62300.0      4   \n",
       "1  1.468556e+12   HBAL406      BA1123  43.3738 -113.7937  258  60500.0      5   \n",
       "2  1.468556e+12   HBAL427      BA111F  18.2783  -65.7778  258  57600.0     29   \n",
       "3  1.468556e+12   HBAL287      BA1008  -7.2694  -79.8547  356  59900.0     19   \n",
       "4  1.468556e+12   HBAL305      BA1007  -7.3076  -78.5334  352  60200.0     16   \n",
       "\n",
       "                   ts                   country country_code         trip_id  \n",
       "0 2016-07-15 04:07:57  United States of America          USA  HBAL417-BA1102  \n",
       "1 2016-07-15 04:07:59  United States of America          USA  HBAL406-BA1123  \n",
       "2 2016-07-15 04:07:59               Puerto Rico          PRI  HBAL427-BA111F  \n",
       "3 2016-07-15 04:08:00                       NaN          NaN  HBAL287-BA1008  \n",
       "4 2016-07-15 04:08:00                      Peru          PER  HBAL305-BA1007  "
      ]
     },
     "execution_count": 11,
     "metadata": {},
     "output_type": "execute_result"
    }
   ],
   "source": [
    "bl.head()"
   ]
  },
  {
   "cell_type": "code",
   "execution_count": 12,
   "metadata": {},
   "outputs": [],
   "source": [
    "# Overwrite the modified extract\n",
    "bl.to_csv('../../../../og_data/extract_clean_with_country.csv')"
   ]
  }
 ],
 "metadata": {
  "kernelspec": {
   "display_name": "Python 2",
   "language": "python",
   "name": "python2"
  },
  "language_info": {
   "codemirror_mode": {
    "name": "ipython",
    "version": 2
   },
   "file_extension": ".py",
   "mimetype": "text/x-python",
   "name": "python",
   "nbconvert_exporter": "python",
   "pygments_lexer": "ipython2",
   "version": "2.7.17"
  }
 },
 "nbformat": 4,
 "nbformat_minor": 2
}
